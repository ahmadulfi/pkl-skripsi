{
 "cells": [
  {
   "cell_type": "markdown",
   "metadata": {},
   "source": [
    "# Scrapping Google Review"
   ]
  },
  {
   "cell_type": "markdown",
   "metadata": {},
   "source": [
    "Tahap awal dari analisis ini adalah melakukan scrapping pada Google Maps Review. Digunakan package selenium dengan bantuan webdriver dan Beautiful Soup 4 untuk melakukan scrapping html"
   ]
  },
  {
   "cell_type": "code",
   "execution_count": 2,
   "metadata": {},
   "outputs": [],
   "source": [
    "import pandas as pd\n",
    "import os\n",
    "from selenium import webdriver\n",
    "from selenium.webdriver.common.by import By\n",
    "from selenium import webdriver\n",
    "from bs4 import BeautifulSoup\n",
    "import time\n",
    "import numpy as np\n",
    "from tqdm import tqdm"
   ]
  },
  {
   "cell_type": "markdown",
   "metadata": {},
   "source": [
    "## Create Function"
   ]
  },
  {
   "cell_type": "code",
   "execution_count": 8,
   "metadata": {},
   "outputs": [],
   "source": [
    "def _scrapping_google_review(url):\n",
    "    path_chromedriver = os.path.join(os.getcwd(),\"chromedriver_win32\\chromedriver.exe\")\n",
    "    driver = webdriver.Chrome(path_chromedriver)\n",
    "    #Website\n",
    "    driver.get(url)\n",
    "\n",
    "    time.sleep(10)\n",
    "    \n",
    "    #Find the review button\n",
    "    rev_button = '//*[@id=\"QA0Szd\"]/div/div/div[1]/div[2]/div/div[1]/div/div/div[2]/div[1]/div[1]/div[2]/div/div[1]/div[2]/span/span/span[2]'\n",
    "    driver.find_element(By.XPATH, rev_button).click()\n",
    "    \n",
    "    time.sleep(10)\n",
    "    \n",
    "    #Find name\n",
    "    num_rev = '//*[@id=\"QA0Szd\"]/div/div/div[1]/div[2]/div/div[1]/div/div/div[2]/div[2]/div/div[2]/div[2]'\n",
    "    total_number_of_reviews = driver.find_element(By.XPATH,num_rev).text.split(\" \")[0]\n",
    "    total_number_of_reviews = int(total_number_of_reviews.replace('.','')) if '.' in total_number_of_reviews else int(total_number_of_reviews)\n",
    "    \n",
    "    print(f'Total Number of Reviews: {total_number_of_reviews}')\n",
    "    print()\n",
    "    time.sleep(20)\n",
    "    print('Loading all reviews...')\n",
    "\n",
    "    #Load all reviews by scrolling down\n",
    "    scroll = '//*[@id=\"QA0Szd\"]/div/div/div[1]/div[2]/div/div[1]/div/div/div[2]'\n",
    "    scrollable_div = driver.find_element(By.XPATH,scroll)\n",
    "\n",
    "    total_rev = round(total_number_of_reviews/10)\n",
    "    if total_rev > 100:\n",
    "        total_rev = 120\n",
    "    else:\n",
    "        pass\n",
    "\n",
    "    for i in tqdm(range(0,(total_rev))):\n",
    "        driver.execute_script('arguments[0].scrollTop = arguments[0].scrollHeight', \n",
    "                    scrollable_div)\n",
    "        time.sleep(2)\n",
    "    print('Load finished')\n",
    "\n",
    "    more_button_xpath = 'w8nwRe.kyuRq'\n",
    "    more_button = driver.find_elements(By.CLASS_NAME,more_button_xpath)\n",
    "    total_button = len(more_button)\n",
    "    print()\n",
    "    print('Expanding Review..')\n",
    "\n",
    "    for i in tqdm(range(total_button)):\n",
    "        driver.find_element(By.CLASS_NAME,more_button_xpath).click()\n",
    "\n",
    "    time.sleep(5)\n",
    "    \n",
    "    #Parse HTML\n",
    "    response = BeautifulSoup(driver.page_source, 'html.parser')\n",
    "\n",
    "    #Get all reviews\n",
    "    reviews = response.find_all('div', class_='jJc9Ad')\n",
    "\n",
    "    print(f'Total Number of Reviews Scrapped: {len(reviews)}')\n",
    "    return reviews"
   ]
  },
  {
   "cell_type": "code",
   "execution_count": 4,
   "metadata": {},
   "outputs": [],
   "source": [
    "def _get_review_summary(result_set):\n",
    "    rev_dict = {\n",
    "        'Name' : [],\n",
    "        'Status': [],\n",
    "        'Number of Review' :[],\n",
    "        'Review Rate': [],\n",
    "        'Review Time': [],\n",
    "        'Review Text' : []}\n",
    "        \n",
    "    for result in result_set:\n",
    "        review_name = result.find('div', class_ = 'd4r55').text\n",
    "        try:\n",
    "          review = result.find('div', class_ = 'RfnDt').text\n",
    "          if review.startswith('Local Guide'):\n",
    "            review_status = 'Local Guide'\n",
    "          else:\n",
    "            review_status = '-'\n",
    "          \n",
    "          try:\n",
    "            review_num = review.strip('Local Guide · ')\n",
    "          except:\n",
    "            review_num = review\n",
    "\n",
    "        except:\n",
    "          review = 'Uncategorized'\n",
    "        review_rate = result.find('span', class_='kvMYJc')[\"aria-label\"]\n",
    "        review_time = result.find('span',class_='rsqaWe').text     \n",
    "        review_text = result.find('span',class_='wiI7pd').text\n",
    "        rev_dict['Name'].append(review_name)\n",
    "        rev_dict['Status'].append(review_status)\n",
    "        rev_dict['Number of Review'].append(review_num)\n",
    "        rev_dict['Review Rate'].append(review_rate)\n",
    "        rev_dict['Review Time'].append(review_time)\n",
    "        rev_dict['Review Text'].append(review_text)   \n",
    "    return(pd.DataFrame(rev_dict))"
   ]
  },
  {
   "cell_type": "code",
   "execution_count": 5,
   "metadata": {},
   "outputs": [],
   "source": [
    "url_tanjungperak = ['https://goo.gl/maps/sVHB1mNji9JPwraf8',\n",
    "                    'https://goo.gl/maps/RFfk3iLyH6BevQWj9',\n",
    "                    'https://goo.gl/maps/Wsy7K8MhCqkFJx9t6',\n",
    "                    'https://goo.gl/maps/RinsTcSfiPmRLNeJ6',\n",
    "                    'https://goo.gl/maps/YEEFBNzjVkAwTfPCA',\n",
    "                    ]\n",
    "url_roro = ['https://goo.gl/maps/EYhHYXLECArriu9u7',\n",
    "            'https://goo.gl/maps/uLDkqxXNR4ZC1z529']\n",
    "\n",
    "url_gsn = 'https://goo.gl/maps/DByBkroEE9mNyViw6'\n",
    "\n",
    "url_snq = 'https://goo.gl/maps/gsBXNFypwh8ZJyvw6'\n",
    "\n",
    "url_jamrud = ['https://goo.gl/maps/aS69R1iNvARqafqYA',\n",
    "              'https://goo.gl/maps/M55TQDMd6vg4GCY77',\n",
    "              'https://goo.gl/maps/4pdb5mdyNxtPGRy87',\n",
    "              'https://goo.gl/maps/MNhgoCV25weA1jUb8',\n",
    "              'https://goo.gl/maps/FK3f5m518AiaweW96']"
   ]
  },
  {
   "cell_type": "markdown",
   "metadata": {},
   "source": [
    "## Places"
   ]
  },
  {
   "cell_type": "markdown",
   "metadata": {},
   "source": [
    "## Roro"
   ]
  },
  {
   "cell_type": "code",
   "execution_count": 8,
   "metadata": {},
   "outputs": [
    {
     "name": "stderr",
     "output_type": "stream",
     "text": [
      "C:\\Users\\Ahmad Ulfi\\AppData\\Local\\Temp\\ipykernel_16880\\1756425134.py:3: DeprecationWarning: executable_path has been deprecated, please pass in a Service object\n",
      "  driver = webdriver.Chrome(path_chromedriver)\n"
     ]
    },
    {
     "name": "stdout",
     "output_type": "stream",
     "text": [
      "Total Number of Reviews: 4\n",
      "\n",
      "Loading all reviews...\n"
     ]
    },
    {
     "name": "stderr",
     "output_type": "stream",
     "text": [
      "0it [00:00, ?it/s]\n"
     ]
    },
    {
     "name": "stdout",
     "output_type": "stream",
     "text": [
      "Load finished\n",
      "\n",
      "Expanding Review..\n"
     ]
    },
    {
     "name": "stderr",
     "output_type": "stream",
     "text": [
      "100%|██████████| 1/1 [00:00<00:00,  4.77it/s]\n"
     ]
    },
    {
     "name": "stdout",
     "output_type": "stream",
     "text": [
      "Total Number of Reviews Scrapped: 4\n",
      "Total Number of Reviews: 33\n",
      "\n",
      "Loading all reviews...\n"
     ]
    },
    {
     "name": "stderr",
     "output_type": "stream",
     "text": [
      "100%|██████████| 3/3 [00:06<00:00,  2.14s/it]\n"
     ]
    },
    {
     "name": "stdout",
     "output_type": "stream",
     "text": [
      "Load finished\n",
      "\n",
      "Expanding Review..\n"
     ]
    },
    {
     "name": "stderr",
     "output_type": "stream",
     "text": [
      "0it [00:00, ?it/s]\n"
     ]
    },
    {
     "name": "stdout",
     "output_type": "stream",
     "text": [
      "Total Number of Reviews Scrapped: 33\n"
     ]
    }
   ],
   "source": [
    "roro = []\n",
    "\n",
    "for i in url_roro:\n",
    "    a = _scrapping_google_review(i)\n",
    "    roro.append(a)"
   ]
  },
  {
   "cell_type": "code",
   "execution_count": 10,
   "metadata": {},
   "outputs": [],
   "source": [
    "a = 1\n",
    "for i in roro:\n",
    "  review = _get_review_summary(i)\n",
    "  name = f'Google Map Review Roro {a}.xlsx'\n",
    "  review.to_excel(name)\n",
    "  a+=1"
   ]
  },
  {
   "cell_type": "markdown",
   "metadata": {},
   "source": [
    "## Gapura Surya Nusantara (GSN)"
   ]
  },
  {
   "cell_type": "code",
   "execution_count": 12,
   "metadata": {},
   "outputs": [
    {
     "name": "stderr",
     "output_type": "stream",
     "text": [
      "C:\\Users\\Ahmad Ulfi\\AppData\\Local\\Temp\\ipykernel_16880\\4219958328.py:3: DeprecationWarning: executable_path has been deprecated, please pass in a Service object\n",
      "  driver = webdriver.Chrome(path_chromedriver)\n"
     ]
    },
    {
     "name": "stdout",
     "output_type": "stream",
     "text": [
      "Total Number of Reviews: 120\n",
      "\n",
      "Loading all reviews...\n"
     ]
    },
    {
     "name": "stderr",
     "output_type": "stream",
     "text": [
      "100%|██████████| 12/12 [00:24<00:00,  2.07s/it]\n"
     ]
    },
    {
     "name": "stdout",
     "output_type": "stream",
     "text": [
      "Load finished\n",
      "\n",
      "Expanding Review..\n"
     ]
    },
    {
     "name": "stderr",
     "output_type": "stream",
     "text": [
      "100%|██████████| 11/11 [00:05<00:00,  2.15it/s]\n"
     ]
    },
    {
     "name": "stdout",
     "output_type": "stream",
     "text": [
      "Total Number of Reviews Scrapped: 120\n"
     ]
    }
   ],
   "source": [
    "gsn = _scrapping_google_review(url_gsn)"
   ]
  },
  {
   "cell_type": "code",
   "execution_count": 13,
   "metadata": {},
   "outputs": [],
   "source": [
    "review_gsn = _get_review_summary(gsn)\n",
    "review_gsn.to_excel('Google Map Review GSN.xlsx')"
   ]
  },
  {
   "cell_type": "markdown",
   "metadata": {},
   "source": [
    "## Tanjung Perak"
   ]
  },
  {
   "cell_type": "code",
   "execution_count": 9,
   "metadata": {},
   "outputs": [
    {
     "name": "stderr",
     "output_type": "stream",
     "text": [
      "C:\\Users\\Ahmad Ulfi\\AppData\\Local\\Temp\\ipykernel_16660\\638011662.py:3: DeprecationWarning: executable_path has been deprecated, please pass in a Service object\n",
      "  driver = webdriver.Chrome(path_chromedriver)\n"
     ]
    },
    {
     "name": "stdout",
     "output_type": "stream",
     "text": [
      "Total Number of Reviews: 2186\n",
      "\n",
      "Loading all reviews...\n"
     ]
    },
    {
     "name": "stderr",
     "output_type": "stream",
     "text": [
      "100%|██████████| 120/120 [04:03<00:00,  2.03s/it]\n"
     ]
    },
    {
     "name": "stdout",
     "output_type": "stream",
     "text": [
      "Load finished\n",
      "\n",
      "Expanding Review..\n"
     ]
    },
    {
     "name": "stderr",
     "output_type": "stream",
     "text": [
      "100%|██████████| 48/48 [00:03<00:00, 13.68it/s]\n"
     ]
    },
    {
     "name": "stdout",
     "output_type": "stream",
     "text": [
      "Total Number of Reviews Scrapped: 930\n",
      "Total Number of Reviews: 920\n",
      "\n",
      "Loading all reviews...\n"
     ]
    },
    {
     "name": "stderr",
     "output_type": "stream",
     "text": [
      "100%|██████████| 92/92 [03:07<00:00,  2.04s/it]\n"
     ]
    },
    {
     "name": "stdout",
     "output_type": "stream",
     "text": [
      "Load finished\n",
      "\n",
      "Expanding Review..\n"
     ]
    },
    {
     "name": "stderr",
     "output_type": "stream",
     "text": [
      "100%|██████████| 24/24 [00:11<00:00,  2.12it/s]\n"
     ]
    },
    {
     "name": "stdout",
     "output_type": "stream",
     "text": [
      "Total Number of Reviews Scrapped: 870\n",
      "Total Number of Reviews: 435\n",
      "\n",
      "Loading all reviews...\n"
     ]
    },
    {
     "name": "stderr",
     "output_type": "stream",
     "text": [
      "100%|██████████| 44/44 [01:31<00:00,  2.09s/it]\n"
     ]
    },
    {
     "name": "stdout",
     "output_type": "stream",
     "text": [
      "Load finished\n",
      "\n",
      "Expanding Review..\n"
     ]
    },
    {
     "name": "stderr",
     "output_type": "stream",
     "text": [
      "100%|██████████| 5/5 [00:00<00:00,  8.99it/s]\n"
     ]
    },
    {
     "name": "stdout",
     "output_type": "stream",
     "text": [
      "Total Number of Reviews Scrapped: 100\n",
      "Total Number of Reviews: 24\n",
      "\n",
      "Loading all reviews...\n"
     ]
    },
    {
     "name": "stderr",
     "output_type": "stream",
     "text": [
      "100%|██████████| 2/2 [00:04<00:00,  2.02s/it]\n"
     ]
    },
    {
     "name": "stdout",
     "output_type": "stream",
     "text": [
      "Load finished\n",
      "\n",
      "Expanding Review..\n"
     ]
    },
    {
     "name": "stderr",
     "output_type": "stream",
     "text": [
      "100%|██████████| 1/1 [00:00<00:00,  7.60it/s]\n"
     ]
    },
    {
     "name": "stdout",
     "output_type": "stream",
     "text": [
      "Total Number of Reviews Scrapped: 24\n",
      "Total Number of Reviews: 78\n",
      "\n",
      "Loading all reviews...\n"
     ]
    },
    {
     "name": "stderr",
     "output_type": "stream",
     "text": [
      "100%|██████████| 8/8 [00:16<00:00,  2.02s/it]\n"
     ]
    },
    {
     "name": "stdout",
     "output_type": "stream",
     "text": [
      "Load finished\n",
      "\n",
      "Expanding Review..\n"
     ]
    },
    {
     "name": "stderr",
     "output_type": "stream",
     "text": [
      "100%|██████████| 2/2 [00:00<00:00,  5.89it/s]\n"
     ]
    },
    {
     "name": "stdout",
     "output_type": "stream",
     "text": [
      "Total Number of Reviews Scrapped: 78\n"
     ]
    }
   ],
   "source": [
    "tjperak = []\n",
    "\n",
    "for i in url_tanjungperak:\n",
    "    a = _scrapping_google_review(i)\n",
    "    tjperak.append(a)"
   ]
  },
  {
   "cell_type": "code",
   "execution_count": 16,
   "metadata": {},
   "outputs": [
    {
     "name": "stderr",
     "output_type": "stream",
     "text": [
      "C:\\Users\\Ahmad Ulfi\\AppData\\Local\\Temp\\ipykernel_16660\\638011662.py:3: DeprecationWarning: executable_path has been deprecated, please pass in a Service object\n",
      "  driver = webdriver.Chrome(path_chromedriver)\n"
     ]
    },
    {
     "name": "stdout",
     "output_type": "stream",
     "text": [
      "Total Number of Reviews: 920\n",
      "\n",
      "Loading all reviews...\n"
     ]
    },
    {
     "name": "stderr",
     "output_type": "stream",
     "text": [
      "100%|██████████| 92/92 [03:21<00:00,  2.19s/it]\n"
     ]
    },
    {
     "name": "stdout",
     "output_type": "stream",
     "text": [
      "Load finished\n",
      "\n",
      "Expanding Review..\n"
     ]
    },
    {
     "name": "stderr",
     "output_type": "stream",
     "text": [
      "100%|██████████| 24/24 [00:08<00:00,  2.74it/s]\n"
     ]
    },
    {
     "name": "stdout",
     "output_type": "stream",
     "text": [
      "Total Number of Reviews Scrapped: 910\n",
      "Total Number of Reviews: 435\n",
      "\n",
      "Loading all reviews...\n"
     ]
    },
    {
     "name": "stderr",
     "output_type": "stream",
     "text": [
      "100%|██████████| 44/44 [01:29<00:00,  2.03s/it]\n"
     ]
    },
    {
     "name": "stdout",
     "output_type": "stream",
     "text": [
      "Load finished\n",
      "\n",
      "Expanding Review..\n"
     ]
    },
    {
     "name": "stderr",
     "output_type": "stream",
     "text": [
      "100%|██████████| 8/8 [00:01<00:00,  4.65it/s]\n"
     ]
    },
    {
     "name": "stdout",
     "output_type": "stream",
     "text": [
      "Total Number of Reviews Scrapped: 420\n"
     ]
    }
   ],
   "source": [
    "tjperak[1] = _scrapping_google_review(url_tanjungperak[1])\n",
    "tjperak[2] = _scrapping_google_review(url_tanjungperak[2])"
   ]
  },
  {
   "cell_type": "code",
   "execution_count": 17,
   "metadata": {},
   "outputs": [],
   "source": [
    "a = 1\n",
    "for i in tjperak:\n",
    "  review = _get_review_summary(i)\n",
    "  name = f'Google Map Review Tanjung Perak {a}.xlsx'\n",
    "  review.to_excel(name)\n",
    "  a+=1"
   ]
  },
  {
   "cell_type": "markdown",
   "metadata": {},
   "source": [
    "## Surabaya North Quay"
   ]
  },
  {
   "cell_type": "code",
   "execution_count": 18,
   "metadata": {},
   "outputs": [
    {
     "name": "stderr",
     "output_type": "stream",
     "text": [
      "C:\\Users\\Ahmad Ulfi\\AppData\\Local\\Temp\\ipykernel_16660\\638011662.py:3: DeprecationWarning: executable_path has been deprecated, please pass in a Service object\n",
      "  driver = webdriver.Chrome(path_chromedriver)\n"
     ]
    },
    {
     "name": "stdout",
     "output_type": "stream",
     "text": [
      "Total Number of Reviews: 18880\n",
      "\n",
      "Loading all reviews...\n"
     ]
    },
    {
     "name": "stderr",
     "output_type": "stream",
     "text": [
      "100%|██████████| 120/120 [04:04<00:00,  2.04s/it]\n"
     ]
    },
    {
     "name": "stdout",
     "output_type": "stream",
     "text": [
      "Load finished\n",
      "\n",
      "Expanding Review..\n"
     ]
    },
    {
     "name": "stderr",
     "output_type": "stream",
     "text": [
      "100%|██████████| 289/289 [00:22<00:00, 12.58it/s]\n"
     ]
    },
    {
     "name": "stdout",
     "output_type": "stream",
     "text": [
      "Total Number of Reviews Scrapped: 930\n"
     ]
    }
   ],
   "source": [
    "snq = _scrapping_google_review(url_snq)"
   ]
  },
  {
   "cell_type": "code",
   "execution_count": 19,
   "metadata": {},
   "outputs": [],
   "source": [
    "review_snq = _get_review_summary(snq)\n",
    "\n",
    "review_snq.to_excel('Google Map Review SNQ.xlsx')"
   ]
  },
  {
   "cell_type": "markdown",
   "metadata": {},
   "source": [
    "### Jamrud"
   ]
  },
  {
   "cell_type": "code",
   "execution_count": 20,
   "metadata": {},
   "outputs": [
    {
     "name": "stderr",
     "output_type": "stream",
     "text": [
      "C:\\Users\\Ahmad Ulfi\\AppData\\Local\\Temp\\ipykernel_16660\\638011662.py:3: DeprecationWarning: executable_path has been deprecated, please pass in a Service object\n",
      "  driver = webdriver.Chrome(path_chromedriver)\n"
     ]
    },
    {
     "name": "stdout",
     "output_type": "stream",
     "text": [
      "Total Number of Reviews: 248\n",
      "\n",
      "Loading all reviews...\n"
     ]
    },
    {
     "name": "stderr",
     "output_type": "stream",
     "text": [
      "100%|██████████| 25/25 [00:50<00:00,  2.03s/it]\n"
     ]
    },
    {
     "name": "stdout",
     "output_type": "stream",
     "text": [
      "Load finished\n",
      "\n",
      "Expanding Review..\n"
     ]
    },
    {
     "name": "stderr",
     "output_type": "stream",
     "text": [
      "100%|██████████| 6/6 [00:00<00:00,  7.58it/s]\n"
     ]
    },
    {
     "name": "stdout",
     "output_type": "stream",
     "text": [
      "Total Number of Reviews Scrapped: 180\n",
      "Total Number of Reviews: 471\n",
      "\n",
      "Loading all reviews...\n"
     ]
    },
    {
     "name": "stderr",
     "output_type": "stream",
     "text": [
      "100%|██████████| 47/47 [01:35<00:00,  2.02s/it]\n"
     ]
    },
    {
     "name": "stdout",
     "output_type": "stream",
     "text": [
      "Load finished\n",
      "\n",
      "Expanding Review..\n"
     ]
    },
    {
     "name": "stderr",
     "output_type": "stream",
     "text": [
      "100%|██████████| 14/14 [00:02<00:00,  5.59it/s]\n"
     ]
    },
    {
     "name": "stdout",
     "output_type": "stream",
     "text": [
      "Total Number of Reviews Scrapped: 470\n",
      "Total Number of Reviews: 250\n",
      "\n",
      "Loading all reviews...\n"
     ]
    },
    {
     "name": "stderr",
     "output_type": "stream",
     "text": [
      "100%|██████████| 25/25 [00:50<00:00,  2.02s/it]\n"
     ]
    },
    {
     "name": "stdout",
     "output_type": "stream",
     "text": [
      "Load finished\n",
      "\n",
      "Expanding Review..\n"
     ]
    },
    {
     "name": "stderr",
     "output_type": "stream",
     "text": [
      "100%|██████████| 6/6 [00:00<00:00,  6.07it/s]\n"
     ]
    },
    {
     "name": "stdout",
     "output_type": "stream",
     "text": [
      "Total Number of Reviews Scrapped: 250\n",
      "Total Number of Reviews: 15\n",
      "\n",
      "Loading all reviews...\n"
     ]
    },
    {
     "name": "stderr",
     "output_type": "stream",
     "text": [
      "100%|██████████| 2/2 [00:04<00:00,  2.02s/it]\n"
     ]
    },
    {
     "name": "stdout",
     "output_type": "stream",
     "text": [
      "Load finished\n",
      "\n",
      "Expanding Review..\n"
     ]
    },
    {
     "name": "stderr",
     "output_type": "stream",
     "text": [
      "100%|██████████| 1/1 [00:00<00:00,  9.93it/s]\n"
     ]
    },
    {
     "name": "stdout",
     "output_type": "stream",
     "text": [
      "Total Number of Reviews Scrapped: 15\n",
      "Total Number of Reviews: 85\n",
      "\n",
      "Loading all reviews...\n"
     ]
    },
    {
     "name": "stderr",
     "output_type": "stream",
     "text": [
      "100%|██████████| 8/8 [00:16<00:00,  2.02s/it]\n"
     ]
    },
    {
     "name": "stdout",
     "output_type": "stream",
     "text": [
      "Load finished\n",
      "\n",
      "Expanding Review..\n"
     ]
    },
    {
     "name": "stderr",
     "output_type": "stream",
     "text": [
      "100%|██████████| 2/2 [00:00<00:00, 10.78it/s]\n"
     ]
    },
    {
     "name": "stdout",
     "output_type": "stream",
     "text": [
      "Total Number of Reviews Scrapped: 85\n"
     ]
    }
   ],
   "source": [
    "num = 1\n",
    "\n",
    "for i in url_jamrud:\n",
    "    a = _scrapping_google_review(i)\n",
    "    review = _get_review_summary(a)\n",
    "    name = f'Google Map Review Jamrud {num}.xlsx'\n",
    "    review.to_excel(name)\n",
    "    num+=1"
   ]
  },
  {
   "cell_type": "markdown",
   "metadata": {},
   "source": [
    "# Cleaning Data"
   ]
  },
  {
   "cell_type": "code",
   "execution_count": 11,
   "metadata": {},
   "outputs": [],
   "source": [
    "import re\n",
    "import pandas as pd\n",
    "import numpy as np\n",
    "\n",
    "from Sastrawi.StopWordRemover.StopWordRemoverFactory import StopWordRemoverFactory\n",
    "from Sastrawi.Stemmer.StemmerFactory import StemmerFactory\n",
    "\n",
    "from tqdm import tqdm \n",
    "from IPython.display import clear_output"
   ]
  },
  {
   "cell_type": "code",
   "execution_count": 4,
   "metadata": {},
   "outputs": [],
   "source": [
    "def _remove_emoji(string):\n",
    "    '''Membersihkan Emoji'''\n",
    "    emoji_pattern = re.compile(\"[\"\n",
    "                               u\"\\U0001F600-\\U0001F64F\"  # emoticons\n",
    "                               u\"\\U0001F300-\\U0001F5FF\"  # symbols & pictographs\n",
    "                               u\"\\U0001F680-\\U0001F6FF\"  # transport & map symbols\n",
    "                               u\"\\U0001F1E0-\\U0001F1FF\"  # flags (iOS)\n",
    "                               u\"\\U00002500-\\U00002BEF\"  # chinese char\n",
    "                               u\"\\U00002702-\\U000027B0\"\n",
    "                               u\"\\U00002702-\\U000027B0\"\n",
    "                               u\"\\U000024C2-\\U0001F251\"\n",
    "                               u\"\\U0001f926-\\U0001f937\"\n",
    "                               u\"\\U00010000-\\U0010ffff\"\n",
    "                               u\"\\u2640-\\u2642\"\n",
    "                               u\"\\u2600-\\u2B55\"\n",
    "                               u\"\\u200d\"\n",
    "                               u\"\\u23cf\"\n",
    "                               u\"\\u23e9\"\n",
    "                               u\"\\u231a\"\n",
    "                               u\"\\ufe0f\"  # dingbats\n",
    "                               u\"\\u3030\"\n",
    "                               \"]+\", flags=re.UNICODE)\n",
    "    return emoji_pattern.sub(r'', string)"
   ]
  },
  {
   "cell_type": "code",
   "execution_count": 47,
   "metadata": {},
   "outputs": [],
   "source": [
    "fac = StopWordRemoverFactory()\n",
    "stopword = fac.create_stop_word_remover()\n",
    "\n",
    "stem = StemmerFactory()\n",
    "stemer = stem.create_stemmer()\n",
    "\n",
    "def _stopstem(string):\n",
    "    '''Menghapus stopwords dan melakukan stemming'''\n",
    "    removed = []\n",
    "    for word in string.split():\n",
    "        removed.append(stopword.remove(word))\n",
    "    \n",
    "    filtered = []\n",
    "    for word in removed:\n",
    "        filtered.append(stemer.stem(word))\n",
    "\n",
    "    while '' in filtered:\n",
    "        filtered.remove('')\n",
    "        \n",
    "    return filtered\n",
    "    "
   ]
  },
  {
   "cell_type": "code",
   "execution_count": 48,
   "metadata": {},
   "outputs": [],
   "source": [
    "def _preprocess(string):\n",
    "    #Case Folding\n",
    "    string = string.lower()\n",
    "    string = string.replace('\\n',' ')\n",
    "    \n",
    "    if string.startswith('(diterjemahkan'):\n",
    "        string = ''\n",
    "    else:\n",
    "        pass\n",
    "    \n",
    "    return string"
   ]
  },
  {
   "cell_type": "markdown",
   "metadata": {},
   "source": [
    "## Merge G Maps Review"
   ]
  },
  {
   "cell_type": "code",
   "execution_count": 23,
   "metadata": {},
   "outputs": [],
   "source": [
    "excel_penumpang = []\n",
    "excel_roro = []\n",
    "for file in os.listdir(os.getcwd()):\n",
    "    if file.endswith('.xlsx'):\n",
    "        if 'Roro' in file:\n",
    "            excel_roro.append(file)\n",
    "        else:\n",
    "            excel_penumpang.append(file)"
   ]
  },
  {
   "cell_type": "code",
   "execution_count": 52,
   "metadata": {},
   "outputs": [
    {
     "name": "stdout",
     "output_type": "stream",
     "text": [
      "Total Review Awal = 4412\n",
      "Total Review dengan Komentar = 3089\n"
     ]
    },
    {
     "name": "stderr",
     "output_type": "stream",
     "text": [
      "100%|██████████| 3089/3089 [00:00<00:00, 4442.79it/s]\n"
     ]
    },
    {
     "name": "stdout",
     "output_type": "stream",
     "text": [
      "Total Review setelah menghapus review yang berisikan hanya emoji = 3049\n"
     ]
    },
    {
     "name": "stderr",
     "output_type": "stream",
     "text": [
      "100%|██████████| 3049/3049 [00:00<00:00, 4031.32it/s]\n"
     ]
    },
    {
     "name": "stdout",
     "output_type": "stream",
     "text": [
      "Total Review dengan Komentar = 2858\n"
     ]
    },
    {
     "name": "stderr",
     "output_type": "stream",
     "text": [
      "100%|██████████| 2858/2858 [07:02<00:00,  6.76it/s] \n"
     ]
    },
    {
     "data": {
      "text/html": [
       "<div>\n",
       "<style scoped>\n",
       "    .dataframe tbody tr th:only-of-type {\n",
       "        vertical-align: middle;\n",
       "    }\n",
       "\n",
       "    .dataframe tbody tr th {\n",
       "        vertical-align: top;\n",
       "    }\n",
       "\n",
       "    .dataframe thead th {\n",
       "        text-align: right;\n",
       "    }\n",
       "</style>\n",
       "<table border=\"1\" class=\"dataframe\">\n",
       "  <thead>\n",
       "    <tr style=\"text-align: right;\">\n",
       "      <th></th>\n",
       "      <th>Name</th>\n",
       "      <th>Status</th>\n",
       "      <th>Number of Review</th>\n",
       "      <th>Review Rate</th>\n",
       "      <th>Review Time</th>\n",
       "      <th>Review Text</th>\n",
       "    </tr>\n",
       "  </thead>\n",
       "  <tbody>\n",
       "    <tr>\n",
       "      <th>0</th>\n",
       "      <td>anwari anwari</td>\n",
       "      <td>Local Guide</td>\n",
       "      <td>195 ulasan</td>\n",
       "      <td>5 bintang</td>\n",
       "      <td>3 bulan lalu</td>\n",
       "      <td>[layan, tiket, kapal, laut]</td>\n",
       "    </tr>\n",
       "    <tr>\n",
       "      <th>1</th>\n",
       "      <td>Luth “Luthfurrahman” Johari</td>\n",
       "      <td>Local Guide</td>\n",
       "      <td>203 ulasan</td>\n",
       "      <td>2 bintang</td>\n",
       "      <td>sebulan lalu</td>\n",
       "      <td>[kotor, atur, sangat, nyaman, minim, fasilitas]</td>\n",
       "    </tr>\n",
       "    <tr>\n",
       "      <th>2</th>\n",
       "      <td>Wayan Meila</td>\n",
       "      <td>Local Guide</td>\n",
       "      <td>530 ulasan</td>\n",
       "      <td>5 bintang</td>\n",
       "      <td>3 tahun lalu</td>\n",
       "      <td>[terminal, tumpang, labuh, nyaman, interior, k...</td>\n",
       "    </tr>\n",
       "    <tr>\n",
       "      <th>3</th>\n",
       "      <td>saToe</td>\n",
       "      <td>Local Guide</td>\n",
       "      <td>663 ulasan</td>\n",
       "      <td>2 bintang</td>\n",
       "      <td>4 tahun lalu</td>\n",
       "      <td>[banyak, benah, laku, lobby, arrival, departur...</td>\n",
       "    </tr>\n",
       "    <tr>\n",
       "      <th>4</th>\n",
       "      <td>Zaen Gamal</td>\n",
       "      <td>Local Guide</td>\n",
       "      <td>610 ulasan</td>\n",
       "      <td>5 bintang</td>\n",
       "      <td>4 bulan lalu</td>\n",
       "      <td>[antri, tunggu, kapal, oasis, tuju, labuh, lem...</td>\n",
       "    </tr>\n",
       "    <tr>\n",
       "      <th>...</th>\n",
       "      <td>...</td>\n",
       "      <td>...</td>\n",
       "      <td>...</td>\n",
       "      <td>...</td>\n",
       "      <td>...</td>\n",
       "      <td>...</td>\n",
       "    </tr>\n",
       "    <tr>\n",
       "      <th>2853</th>\n",
       "      <td>Rizal Fahmi</td>\n",
       "      <td>Local Guide</td>\n",
       "      <td>318 ulasan</td>\n",
       "      <td>5 bintang</td>\n",
       "      <td>3 tahun lalu</td>\n",
       "      <td>[pelindo, port, run]</td>\n",
       "    </tr>\n",
       "    <tr>\n",
       "      <th>2854</th>\n",
       "      <td>Mohamad Rosul</td>\n",
       "      <td>Local Guide</td>\n",
       "      <td>46 ulasan</td>\n",
       "      <td>5 bintang</td>\n",
       "      <td>3 tahun lalu</td>\n",
       "      <td>[sip]</td>\n",
       "    </tr>\n",
       "    <tr>\n",
       "      <th>2855</th>\n",
       "      <td>Suharjo Harjo</td>\n",
       "      <td>Local Guide</td>\n",
       "      <td>1 ulasan</td>\n",
       "      <td>5 bintang</td>\n",
       "      <td>2 hari lalu</td>\n",
       "      <td>[penuh, alam]</td>\n",
       "    </tr>\n",
       "    <tr>\n",
       "      <th>2856</th>\n",
       "      <td>Copaey Poetra khayangan</td>\n",
       "      <td>Local Guide</td>\n",
       "      <td>1 ulasan</td>\n",
       "      <td>3 bintang</td>\n",
       "      <td>4 tahun lalu</td>\n",
       "      <td>[joym]</td>\n",
       "    </tr>\n",
       "    <tr>\n",
       "      <th>2857</th>\n",
       "      <td>Lailatul Izza</td>\n",
       "      <td>Local Guide</td>\n",
       "      <td>252 ulasan</td>\n",
       "      <td>5 bintang</td>\n",
       "      <td>2 tahun lalu</td>\n",
       "      <td>[nostalgia]</td>\n",
       "    </tr>\n",
       "  </tbody>\n",
       "</table>\n",
       "<p>2858 rows × 6 columns</p>\n",
       "</div>"
      ],
      "text/plain": [
       "                               Name       Status Number of Review  \\\n",
       "0                    anwari anwari   Local Guide       195 ulasan   \n",
       "1      Luth “Luthfurrahman” Johari   Local Guide       203 ulasan   \n",
       "2                      Wayan Meila   Local Guide       530 ulasan   \n",
       "3                            saToe   Local Guide       663 ulasan   \n",
       "4                       Zaen Gamal   Local Guide       610 ulasan   \n",
       "...                             ...          ...              ...   \n",
       "2853                   Rizal Fahmi   Local Guide       318 ulasan   \n",
       "2854                 Mohamad Rosul   Local Guide        46 ulasan   \n",
       "2855                 Suharjo Harjo   Local Guide         1 ulasan   \n",
       "2856       Copaey Poetra khayangan   Local Guide         1 ulasan   \n",
       "2857                 Lailatul Izza   Local Guide       252 ulasan   \n",
       "\n",
       "      Review Rate   Review Time  \\\n",
       "0      5 bintang   3 bulan lalu   \n",
       "1      2 bintang   sebulan lalu   \n",
       "2      5 bintang   3 tahun lalu   \n",
       "3      2 bintang   4 tahun lalu   \n",
       "4      5 bintang   4 bulan lalu   \n",
       "...           ...           ...   \n",
       "2853   5 bintang   3 tahun lalu   \n",
       "2854   5 bintang   3 tahun lalu   \n",
       "2855   5 bintang    2 hari lalu   \n",
       "2856   3 bintang   4 tahun lalu   \n",
       "2857   5 bintang   2 tahun lalu   \n",
       "\n",
       "                                            Review Text  \n",
       "0                           [layan, tiket, kapal, laut]  \n",
       "1       [kotor, atur, sangat, nyaman, minim, fasilitas]  \n",
       "2     [terminal, tumpang, labuh, nyaman, interior, k...  \n",
       "3     [banyak, benah, laku, lobby, arrival, departur...  \n",
       "4     [antri, tunggu, kapal, oasis, tuju, labuh, lem...  \n",
       "...                                                 ...  \n",
       "2853                               [pelindo, port, run]  \n",
       "2854                                              [sip]  \n",
       "2855                                      [penuh, alam]  \n",
       "2856                                             [joym]  \n",
       "2857                                        [nostalgia]  \n",
       "\n",
       "[2858 rows x 6 columns]"
      ]
     },
     "execution_count": 52,
     "metadata": {},
     "output_type": "execute_result"
    }
   ],
   "source": [
    "reviewpenumpang = pd.DataFrame()\n",
    "for file in excel_penumpang:\n",
    "    path = os.path.join(os.getcwd(),file)\n",
    "    reviewpenumpang = reviewpenumpang.append(pd.read_excel(path))\n",
    "    clear_output(wait=False)\n",
    "reviewpenumpang.to_excel('gabungan.xlsx')\n",
    "# Hapus kolom index\n",
    "reviewpenumpang = reviewpenumpang.drop(reviewpenumpang.columns[[0]],axis=1)\n",
    "print(f'Total Review Awal = {len(reviewpenumpang)}')\n",
    "\n",
    "# Hapus Review Kosong pada Review Text\n",
    "reviewpenumpang = reviewpenumpang[reviewpenumpang['Review Text'].notnull()]\n",
    "reviewpenumpang = reviewpenumpang.reset_index(drop=True)\n",
    "print(f'Total Review dengan Komentar = {len(reviewpenumpang)}')\n",
    "\n",
    "# Hapus Emoji\n",
    "for i in tqdm(range(0,len(reviewpenumpang))):\n",
    "    reviewpenumpang['Review Text'][i] = _remove_emoji(reviewpenumpang['Review Text'][i])\n",
    "\n",
    "reviewpenumpang = reviewpenumpang[reviewpenumpang['Review Text']!= '']\n",
    "reviewpenumpang = reviewpenumpang[reviewpenumpang['Review Text']!= ' ']\n",
    "reviewpenumpang = reviewpenumpang.reset_index(drop=True)\n",
    "print(f'Total Review setelah menghapus review yang berisikan hanya emoji = {len(reviewpenumpang)}')\n",
    "\n",
    "# Preprocess Text\n",
    "for i in tqdm(range(0,len(reviewpenumpang))):\n",
    "    reviewpenumpang['Review Text'][i] = _preprocess(reviewpenumpang['Review Text'][i])\n",
    "\n",
    "# Menghapus kembali Review Kosong pada Review Text setelah preprocess\n",
    "reviewpenumpang = reviewpenumpang[reviewpenumpang['Review Text'] != '']\n",
    "reviewpenumpang = reviewpenumpang.reset_index(drop=True)\n",
    "print(f'Total Review dengan Komentar = {len(reviewpenumpang)}')\n",
    "\n",
    "#Stopword removal and Stemming  \n",
    "for i in tqdm(range(0,len(reviewpenumpang))):\n",
    "    reviewpenumpang['Review Text'][i] = _stopstem(reviewpenumpang['Review Text'][i])\n",
    "\n",
    "reviewpenumpang"
   ]
  },
  {
   "cell_type": "markdown",
   "metadata": {},
   "source": [
    "## Word Cloud"
   ]
  },
  {
   "cell_type": "code",
   "execution_count": 53,
   "metadata": {},
   "outputs": [],
   "source": [
    "import matplotlib.pyplot as plt\n",
    "from wordcloud import WordCloud"
   ]
  },
  {
   "cell_type": "code",
   "execution_count": 54,
   "metadata": {},
   "outputs": [
    {
     "data": {
      "image/png": "[encoded data removed]",
      "text/plain": [
       "<Figure size 432x288 with 1 Axes>"
      ]
     },
     "metadata": {
      "needs_background": "light"
     },
     "output_type": "display_data"
    }
   ],
   "source": [
    "wordcloud = \"\"\n",
    "for i in range(0,len(reviewpenumpang)):\n",
    "    for text in reviewpenumpang['Review Text'][i]:\n",
    "        wordcloud += text + \" \"\n",
    "\n",
    "word_cloud = WordCloud(collocations = False, background_color = 'white').generate(wordcloud)\n",
    "\n",
    "plt.imshow(word_cloud, interpolation='bilinear')\n",
    "plt.axis(\"off\")\n",
    "plt.show()"
   ]
  },
  {
   "cell_type": "markdown",
   "metadata": {},
   "source": [
    "## LSA"
   ]
  },
  {
   "cell_type": "code",
   "execution_count": 301,
   "metadata": {},
   "outputs": [],
   "source": [
    "from sklearn.feature_extraction.text import TfidfVectorizer\n",
    "from sklearn.decomposition import TruncatedSVD\n",
    "from sklearn.pipeline import Pipeline\n",
    "\n",
    "documents = [\"doc1.txt\", \"doc2.txt\", \"doc3.txt\"] \n",
    "  \n",
    "# raw documents to tf-idf matrix: \n",
    "vectorizer = TfidfVectorizer(stop_words='english', \n",
    "                             use_idf=True, \n",
    "                             smooth_idf=True)\n",
    "# SVD to reduce dimensionality: \n",
    "svd_model = TruncatedSVD(n_components=100,         // num dimensions\n",
    "                         algorithm='randomized',\n",
    "                         n_iter=10)\n",
    "                         \n",
    "# pipeline of tf-idf + SVD, fit to and applied to documents:\n",
    "svd_transformer = Pipeline([('tfidf', vectorizer), \n",
    "                            ('svd', svd_model)])\n",
    "svd_matrix = svd_transformer.fit_transform(documents)\n",
    "\n",
    "# svd_matrix can later be used to compare documents, compare words, or compare queries with documents"
   ]
  },
  {
   "cell_type": "markdown",
   "metadata": {},
   "source": [
    "## LDA"
   ]
  },
  {
   "cell_type": "code",
   "execution_count": null,
   "metadata": {},
   "outputs": [],
   "source": [
    "from gensim.corpora.Dictionary import load_from_text, doc2bow\n",
    "from gensim.corpora import MmCorpus\n",
    "from gensim.models.ldamodel import LdaModel\n",
    "document = \"This is some document...\"\n",
    "# load id->word mapping (the dictionary)\n",
    "id2word = load_from_text('wiki_en_wordids.txt')\n",
    "# load corpus iterator\n",
    "mm = MmCorpus('wiki_en_tfidf.mm')\n",
    "# extract 100 LDA topics, updating once every 10,000\n",
    "lda = LdaModel(corpus=mm, id2word=id2word, num_topics=100, update_every=1, chunksize=10000, passes=1)\n",
    "# use LDA model: transform new doc to bag-of-words, then apply lda\n",
    "doc_bow = doc2bow(document.split())\n",
    "doc_lda = lda[doc_bow]\n",
    "# doc_lda is vector of length num_topics representing weighted presence of each topic in the doc"
   ]
  }
 ],
 "metadata": {
  "kernelspec": {
   "display_name": "Python 3.8.10 64-bit",
   "language": "python",
   "name": "python3"
  },
  "language_info": {
   "codemirror_mode": {
    "name": "ipython",
    "version": 3
   },
   "file_extension": ".py",
   "mimetype": "text/x-python",
   "name": "python",
   "nbconvert_exporter": "python",
   "pygments_lexer": "ipython3",
   "version": "3.8.10"
  },
  "orig_nbformat": 4,
  "vscode": {
   "interpreter": {
    "hash": "8813fd1af8d6404d78669fd5530a62870c7db12c082af923e946d77e77858332"
   }
  }
 },
 "nbformat": 4,
 "nbformat_minor": 2
}
