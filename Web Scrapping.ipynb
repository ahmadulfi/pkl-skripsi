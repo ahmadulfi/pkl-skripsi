{
 "cells": [
  {
   "cell_type": "markdown",
   "metadata": {},
   "source": [
    "# Scrapping Google Review"
   ]
  },
  {
   "cell_type": "markdown",
   "metadata": {},
   "source": [
    "Tahap awal dari analisis ini adalah melakukan scrapping pada Google Maps Review. Digunakan package selenium dengan bantuan webdriver dan Beautiful Soup 4 untuk melakukan scrapping html"
   ]
  },
  {
   "cell_type": "code",
   "execution_count": 2,
   "metadata": {},
   "outputs": [],
   "source": [
    "import pandas as pd\n",
    "import os\n",
    "from selenium import webdriver\n",
    "from selenium.webdriver.common.by import By\n",
    "from selenium import webdriver\n",
    "from bs4 import BeautifulSoup\n",
    "import time\n",
    "import numpy as np\n",
    "from tqdm import tqdm"
   ]
  },
  {
   "cell_type": "markdown",
   "metadata": {},
   "source": [
    "## Create Function"
   ]
  },
  {
   "cell_type": "code",
   "execution_count": 8,
   "metadata": {},
   "outputs": [],
   "source": [
    "def _scrapping_google_review(url):\n",
    "    path_chromedriver = os.path.join(os.getcwd(),\"chromedriver_win32\\chromedriver.exe\")\n",
    "    driver = webdriver.Chrome(path_chromedriver)\n",
    "    #Website\n",
    "    driver.get(url)\n",
    "\n",
    "    time.sleep(10)\n",
    "    \n",
    "    #Find the review button\n",
    "    rev_button = '//*[@id=\"QA0Szd\"]/div/div/div[1]/div[2]/div/div[1]/div/div/div[2]/div[1]/div[1]/div[2]/div/div[1]/div[2]/span/span/span[2]'\n",
    "    driver.find_element(By.XPATH, rev_button).click()\n",
    "    \n",
    "    time.sleep(10)\n",
    "    \n",
    "    #Find name\n",
    "    num_rev = '//*[@id=\"QA0Szd\"]/div/div/div[1]/div[2]/div/div[1]/div/div/div[2]/div[2]/div/div[2]/div[2]'\n",
    "    total_number_of_reviews = driver.find_element(By.XPATH,num_rev).text.split(\" \")[0]\n",
    "    total_number_of_reviews = int(total_number_of_reviews.replace('.','')) if '.' in total_number_of_reviews else int(total_number_of_reviews)\n",
    "    \n",
    "    print(f'Total Number of Reviews: {total_number_of_reviews}')\n",
    "    print()\n",
    "    time.sleep(20)\n",
    "    print('Loading all reviews...')\n",
    "\n",
    "    #Load all reviews by scrolling down\n",
    "    scroll = '//*[@id=\"QA0Szd\"]/div/div/div[1]/div[2]/div/div[1]/div/div/div[2]'\n",
    "    scrollable_div = driver.find_element(By.XPATH,scroll)\n",
    "\n",
    "    total_rev = round(total_number_of_reviews/10)\n",
    "    if total_rev > 100:\n",
    "        total_rev = 120\n",
    "    else:\n",
    "        pass\n",
    "\n",
    "    for i in tqdm(range(0,(total_rev))):\n",
    "        driver.execute_script('arguments[0].scrollTop = arguments[0].scrollHeight', \n",
    "                    scrollable_div)\n",
    "        time.sleep(2)\n",
    "    print('Load finished')\n",
    "\n",
    "    more_button_xpath = 'w8nwRe.kyuRq'\n",
    "    more_button = driver.find_elements(By.CLASS_NAME,more_button_xpath)\n",
    "    total_button = len(more_button)\n",
    "    print()\n",
    "    print('Expanding Review..')\n",
    "\n",
    "    for i in tqdm(range(total_button)):\n",
    "        driver.find_element(By.CLASS_NAME,more_button_xpath).click()\n",
    "\n",
    "    time.sleep(5)\n",
    "    \n",
    "    #Parse HTML\n",
    "    response = BeautifulSoup(driver.page_source, 'html.parser')\n",
    "\n",
    "    #Get all reviews\n",
    "    reviews = response.find_all('div', class_='jJc9Ad')\n",
    "\n",
    "    print(f'Total Number of Reviews Scrapped: {len(reviews)}')\n",
    "    return reviews"
   ]
  },
  {
   "cell_type": "code",
   "execution_count": 4,
   "metadata": {},
   "outputs": [],
   "source": [
    "def _get_review_summary(result_set):\n",
    "    rev_dict = {\n",
    "        'Name' : [],\n",
    "        'Status': [],\n",
    "        'Number of Review' :[],\n",
    "        'Review Rate': [],\n",
    "        'Review Time': [],\n",
    "        'Review Text' : []}\n",
    "        \n",
    "    for result in result_set:\n",
    "        review_name = result.find('div', class_ = 'd4r55').text\n",
    "        try:\n",
    "          review = result.find('div', class_ = 'RfnDt').text\n",
    "          if review.startswith('Local Guide'):\n",
    "            review_status = 'Local Guide'\n",
    "          else:\n",
    "            review_status = '-'\n",
    "          \n",
    "          try:\n",
    "            review_num = review.strip('Local Guide · ')\n",
    "          except:\n",
    "            review_num = review\n",
    "\n",
    "        except:\n",
    "          review = 'Uncategorized'\n",
    "        review_rate = result.find('span', class_='kvMYJc')[\"aria-label\"]\n",
    "        review_time = result.find('span',class_='rsqaWe').text     \n",
    "        review_text = result.find('span',class_='wiI7pd').text\n",
    "        rev_dict['Name'].append(review_name)\n",
    "        rev_dict['Status'].append(review_status)\n",
    "        rev_dict['Number of Review'].append(review_num)\n",
    "        rev_dict['Review Rate'].append(review_rate)\n",
    "        rev_dict['Review Time'].append(review_time)\n",
    "        rev_dict['Review Text'].append(review_text)   \n",
    "    return(pd.DataFrame(rev_dict))"
   ]
  },
  {
   "cell_type": "code",
   "execution_count": 5,
   "metadata": {},
   "outputs": [],
   "source": [
    "url_tanjungperak = ['https://goo.gl/maps/sVHB1mNji9JPwraf8',\n",
    "                    'https://goo.gl/maps/RFfk3iLyH6BevQWj9',\n",
    "                    'https://goo.gl/maps/Wsy7K8MhCqkFJx9t6',\n",
    "                    'https://goo.gl/maps/RinsTcSfiPmRLNeJ6',\n",
    "                    'https://goo.gl/maps/YEEFBNzjVkAwTfPCA',\n",
    "                    ]\n",
    "url_roro = ['https://goo.gl/maps/EYhHYXLECArriu9u7',\n",
    "            'https://goo.gl/maps/uLDkqxXNR4ZC1z529']\n",
    "\n",
    "url_gsn = 'https://goo.gl/maps/DByBkroEE9mNyViw6'\n",
    "\n",
    "url_snq = 'https://goo.gl/maps/gsBXNFypwh8ZJyvw6'\n",
    "\n",
    "url_jamrud = ['https://goo.gl/maps/aS69R1iNvARqafqYA',\n",
    "              'https://goo.gl/maps/M55TQDMd6vg4GCY77',\n",
    "              'https://goo.gl/maps/4pdb5mdyNxtPGRy87',\n",
    "              'https://goo.gl/maps/MNhgoCV25weA1jUb8',\n",
    "              'https://goo.gl/maps/FK3f5m518AiaweW96']"
   ]
  },
  {
   "cell_type": "markdown",
   "metadata": {},
   "source": [
    "## Places"
   ]
  },
  {
   "cell_type": "markdown",
   "metadata": {},
   "source": [
    "## Roro"
   ]
  },
  {
   "cell_type": "code",
   "execution_count": 8,
   "metadata": {},
   "outputs": [
    {
     "name": "stderr",
     "output_type": "stream",
     "text": [
      "C:\\Users\\Ahmad Ulfi\\AppData\\Local\\Temp\\ipykernel_16880\\1756425134.py:3: DeprecationWarning: executable_path has been deprecated, please pass in a Service object\n",
      "  driver = webdriver.Chrome(path_chromedriver)\n"
     ]
    },
    {
     "name": "stdout",
     "output_type": "stream",
     "text": [
      "Total Number of Reviews: 4\n",
      "\n",
      "Loading all reviews...\n"
     ]
    },
    {
     "name": "stderr",
     "output_type": "stream",
     "text": [
      "0it [00:00, ?it/s]\n"
     ]
    },
    {
     "name": "stdout",
     "output_type": "stream",
     "text": [
      "Load finished\n",
      "\n",
      "Expanding Review..\n"
     ]
    },
    {
     "name": "stderr",
     "output_type": "stream",
     "text": [
      "100%|██████████| 1/1 [00:00<00:00,  4.77it/s]\n"
     ]
    },
    {
     "name": "stdout",
     "output_type": "stream",
     "text": [
      "Total Number of Reviews Scrapped: 4\n",
      "Total Number of Reviews: 33\n",
      "\n",
      "Loading all reviews...\n"
     ]
    },
    {
     "name": "stderr",
     "output_type": "stream",
     "text": [
      "100%|██████████| 3/3 [00:06<00:00,  2.14s/it]\n"
     ]
    },
    {
     "name": "stdout",
     "output_type": "stream",
     "text": [
      "Load finished\n",
      "\n",
      "Expanding Review..\n"
     ]
    },
    {
     "name": "stderr",
     "output_type": "stream",
     "text": [
      "0it [00:00, ?it/s]\n"
     ]
    },
    {
     "name": "stdout",
     "output_type": "stream",
     "text": [
      "Total Number of Reviews Scrapped: 33\n"
     ]
    }
   ],
   "source": [
    "roro = []\n",
    "\n",
    "for i in url_roro:\n",
    "    a = _scrapping_google_review(i)\n",
    "    roro.append(a)"
   ]
  },
  {
   "cell_type": "code",
   "execution_count": 10,
   "metadata": {},
   "outputs": [],
   "source": [
    "a = 1\n",
    "for i in roro:\n",
    "  review = _get_review_summary(i)\n",
    "  name = f'Google Map Review Roro {a}.xlsx'\n",
    "  review.to_excel(name)\n",
    "  a+=1"
   ]
  },
  {
   "cell_type": "markdown",
   "metadata": {},
   "source": [
    "## Gapura Surya Nusantara (GSN)"
   ]
  },
  {
   "cell_type": "code",
   "execution_count": 12,
   "metadata": {},
   "outputs": [
    {
     "name": "stderr",
     "output_type": "stream",
     "text": [
      "C:\\Users\\Ahmad Ulfi\\AppData\\Local\\Temp\\ipykernel_16880\\4219958328.py:3: DeprecationWarning: executable_path has been deprecated, please pass in a Service object\n",
      "  driver = webdriver.Chrome(path_chromedriver)\n"
     ]
    },
    {
     "name": "stdout",
     "output_type": "stream",
     "text": [
      "Total Number of Reviews: 120\n",
      "\n",
      "Loading all reviews...\n"
     ]
    },
    {
     "name": "stderr",
     "output_type": "stream",
     "text": [
      "100%|██████████| 12/12 [00:24<00:00,  2.07s/it]\n"
     ]
    },
    {
     "name": "stdout",
     "output_type": "stream",
     "text": [
      "Load finished\n",
      "\n",
      "Expanding Review..\n"
     ]
    },
    {
     "name": "stderr",
     "output_type": "stream",
     "text": [
      "100%|██████████| 11/11 [00:05<00:00,  2.15it/s]\n"
     ]
    },
    {
     "name": "stdout",
     "output_type": "stream",
     "text": [
      "Total Number of Reviews Scrapped: 120\n"
     ]
    }
   ],
   "source": [
    "gsn = _scrapping_google_review(url_gsn)"
   ]
  },
  {
   "cell_type": "code",
   "execution_count": 13,
   "metadata": {},
   "outputs": [],
   "source": [
    "review_gsn = _get_review_summary(gsn)\n",
    "review_gsn.to_excel('Google Map Review GSN.xlsx')"
   ]
  },
  {
   "cell_type": "markdown",
   "metadata": {},
   "source": [
    "## Tanjung Perak"
   ]
  },
  {
   "cell_type": "code",
   "execution_count": 9,
   "metadata": {},
   "outputs": [
    {
     "name": "stderr",
     "output_type": "stream",
     "text": [
      "C:\\Users\\Ahmad Ulfi\\AppData\\Local\\Temp\\ipykernel_16660\\638011662.py:3: DeprecationWarning: executable_path has been deprecated, please pass in a Service object\n",
      "  driver = webdriver.Chrome(path_chromedriver)\n"
     ]
    },
    {
     "name": "stdout",
     "output_type": "stream",
     "text": [
      "Total Number of Reviews: 2186\n",
      "\n",
      "Loading all reviews...\n"
     ]
    },
    {
     "name": "stderr",
     "output_type": "stream",
     "text": [
      "100%|██████████| 120/120 [04:03<00:00,  2.03s/it]\n"
     ]
    },
    {
     "name": "stdout",
     "output_type": "stream",
     "text": [
      "Load finished\n",
      "\n",
      "Expanding Review..\n"
     ]
    },
    {
     "name": "stderr",
     "output_type": "stream",
     "text": [
      "100%|██████████| 48/48 [00:03<00:00, 13.68it/s]\n"
     ]
    },
    {
     "name": "stdout",
     "output_type": "stream",
     "text": [
      "Total Number of Reviews Scrapped: 930\n",
      "Total Number of Reviews: 920\n",
      "\n",
      "Loading all reviews...\n"
     ]
    },
    {
     "name": "stderr",
     "output_type": "stream",
     "text": [
      "100%|██████████| 92/92 [03:07<00:00,  2.04s/it]\n"
     ]
    },
    {
     "name": "stdout",
     "output_type": "stream",
     "text": [
      "Load finished\n",
      "\n",
      "Expanding Review..\n"
     ]
    },
    {
     "name": "stderr",
     "output_type": "stream",
     "text": [
      "100%|██████████| 24/24 [00:11<00:00,  2.12it/s]\n"
     ]
    },
    {
     "name": "stdout",
     "output_type": "stream",
     "text": [
      "Total Number of Reviews Scrapped: 870\n",
      "Total Number of Reviews: 435\n",
      "\n",
      "Loading all reviews...\n"
     ]
    },
    {
     "name": "stderr",
     "output_type": "stream",
     "text": [
      "100%|██████████| 44/44 [01:31<00:00,  2.09s/it]\n"
     ]
    },
    {
     "name": "stdout",
     "output_type": "stream",
     "text": [
      "Load finished\n",
      "\n",
      "Expanding Review..\n"
     ]
    },
    {
     "name": "stderr",
     "output_type": "stream",
     "text": [
      "100%|██████████| 5/5 [00:00<00:00,  8.99it/s]\n"
     ]
    },
    {
     "name": "stdout",
     "output_type": "stream",
     "text": [
      "Total Number of Reviews Scrapped: 100\n",
      "Total Number of Reviews: 24\n",
      "\n",
      "Loading all reviews...\n"
     ]
    },
    {
     "name": "stderr",
     "output_type": "stream",
     "text": [
      "100%|██████████| 2/2 [00:04<00:00,  2.02s/it]\n"
     ]
    },
    {
     "name": "stdout",
     "output_type": "stream",
     "text": [
      "Load finished\n",
      "\n",
      "Expanding Review..\n"
     ]
    },
    {
     "name": "stderr",
     "output_type": "stream",
     "text": [
      "100%|██████████| 1/1 [00:00<00:00,  7.60it/s]\n"
     ]
    },
    {
     "name": "stdout",
     "output_type": "stream",
     "text": [
      "Total Number of Reviews Scrapped: 24\n",
      "Total Number of Reviews: 78\n",
      "\n",
      "Loading all reviews...\n"
     ]
    },
    {
     "name": "stderr",
     "output_type": "stream",
     "text": [
      "100%|██████████| 8/8 [00:16<00:00,  2.02s/it]\n"
     ]
    },
    {
     "name": "stdout",
     "output_type": "stream",
     "text": [
      "Load finished\n",
      "\n",
      "Expanding Review..\n"
     ]
    },
    {
     "name": "stderr",
     "output_type": "stream",
     "text": [
      "100%|██████████| 2/2 [00:00<00:00,  5.89it/s]\n"
     ]
    },
    {
     "name": "stdout",
     "output_type": "stream",
     "text": [
      "Total Number of Reviews Scrapped: 78\n"
     ]
    }
   ],
   "source": [
    "tjperak = []\n",
    "\n",
    "for i in url_tanjungperak:\n",
    "    a = _scrapping_google_review(i)\n",
    "    tjperak.append(a)"
   ]
  },
  {
   "cell_type": "code",
   "execution_count": 16,
   "metadata": {},
   "outputs": [
    {
     "name": "stderr",
     "output_type": "stream",
     "text": [
      "C:\\Users\\Ahmad Ulfi\\AppData\\Local\\Temp\\ipykernel_16660\\638011662.py:3: DeprecationWarning: executable_path has been deprecated, please pass in a Service object\n",
      "  driver = webdriver.Chrome(path_chromedriver)\n"
     ]
    },
    {
     "name": "stdout",
     "output_type": "stream",
     "text": [
      "Total Number of Reviews: 920\n",
      "\n",
      "Loading all reviews...\n"
     ]
    },
    {
     "name": "stderr",
     "output_type": "stream",
     "text": [
      "100%|██████████| 92/92 [03:21<00:00,  2.19s/it]\n"
     ]
    },
    {
     "name": "stdout",
     "output_type": "stream",
     "text": [
      "Load finished\n",
      "\n",
      "Expanding Review..\n"
     ]
    },
    {
     "name": "stderr",
     "output_type": "stream",
     "text": [
      "100%|██████████| 24/24 [00:08<00:00,  2.74it/s]\n"
     ]
    },
    {
     "name": "stdout",
     "output_type": "stream",
     "text": [
      "Total Number of Reviews Scrapped: 910\n",
      "Total Number of Reviews: 435\n",
      "\n",
      "Loading all reviews...\n"
     ]
    },
    {
     "name": "stderr",
     "output_type": "stream",
     "text": [
      "100%|██████████| 44/44 [01:29<00:00,  2.03s/it]\n"
     ]
    },
    {
     "name": "stdout",
     "output_type": "stream",
     "text": [
      "Load finished\n",
      "\n",
      "Expanding Review..\n"
     ]
    },
    {
     "name": "stderr",
     "output_type": "stream",
     "text": [
      "100%|██████████| 8/8 [00:01<00:00,  4.65it/s]\n"
     ]
    },
    {
     "name": "stdout",
     "output_type": "stream",
     "text": [
      "Total Number of Reviews Scrapped: 420\n"
     ]
    }
   ],
   "source": [
    "tjperak[1] = _scrapping_google_review(url_tanjungperak[1])\n",
    "tjperak[2] = _scrapping_google_review(url_tanjungperak[2])"
   ]
  },
  {
   "cell_type": "code",
   "execution_count": 17,
   "metadata": {},
   "outputs": [],
   "source": [
    "a = 1\n",
    "for i in tjperak:\n",
    "  review = _get_review_summary(i)\n",
    "  name = f'Google Map Review Tanjung Perak {a}.xlsx'\n",
    "  review.to_excel(name)\n",
    "  a+=1"
   ]
  },
  {
   "cell_type": "markdown",
   "metadata": {},
   "source": [
    "## Surabaya North Quay"
   ]
  },
  {
   "cell_type": "code",
   "execution_count": 18,
   "metadata": {},
   "outputs": [
    {
     "name": "stderr",
     "output_type": "stream",
     "text": [
      "C:\\Users\\Ahmad Ulfi\\AppData\\Local\\Temp\\ipykernel_16660\\638011662.py:3: DeprecationWarning: executable_path has been deprecated, please pass in a Service object\n",
      "  driver = webdriver.Chrome(path_chromedriver)\n"
     ]
    },
    {
     "name": "stdout",
     "output_type": "stream",
     "text": [
      "Total Number of Reviews: 18880\n",
      "\n",
      "Loading all reviews...\n"
     ]
    },
    {
     "name": "stderr",
     "output_type": "stream",
     "text": [
      "100%|██████████| 120/120 [04:04<00:00,  2.04s/it]\n"
     ]
    },
    {
     "name": "stdout",
     "output_type": "stream",
     "text": [
      "Load finished\n",
      "\n",
      "Expanding Review..\n"
     ]
    },
    {
     "name": "stderr",
     "output_type": "stream",
     "text": [
      "100%|██████████| 289/289 [00:22<00:00, 12.58it/s]\n"
     ]
    },
    {
     "name": "stdout",
     "output_type": "stream",
     "text": [
      "Total Number of Reviews Scrapped: 930\n"
     ]
    }
   ],
   "source": [
    "snq = _scrapping_google_review(url_snq)"
   ]
  },
  {
   "cell_type": "code",
   "execution_count": 19,
   "metadata": {},
   "outputs": [],
   "source": [
    "review_snq = _get_review_summary(snq)\n",
    "\n",
    "review_snq.to_excel('Google Map Review SNQ.xlsx')"
   ]
  },
  {
   "cell_type": "markdown",
   "metadata": {},
   "source": [
    "### Jamrud"
   ]
  },
  {
   "cell_type": "code",
   "execution_count": 20,
   "metadata": {},
   "outputs": [
    {
     "name": "stderr",
     "output_type": "stream",
     "text": [
      "C:\\Users\\Ahmad Ulfi\\AppData\\Local\\Temp\\ipykernel_16660\\638011662.py:3: DeprecationWarning: executable_path has been deprecated, please pass in a Service object\n",
      "  driver = webdriver.Chrome(path_chromedriver)\n"
     ]
    },
    {
     "name": "stdout",
     "output_type": "stream",
     "text": [
      "Total Number of Reviews: 248\n",
      "\n",
      "Loading all reviews...\n"
     ]
    },
    {
     "name": "stderr",
     "output_type": "stream",
     "text": [
      "100%|██████████| 25/25 [00:50<00:00,  2.03s/it]\n"
     ]
    },
    {
     "name": "stdout",
     "output_type": "stream",
     "text": [
      "Load finished\n",
      "\n",
      "Expanding Review..\n"
     ]
    },
    {
     "name": "stderr",
     "output_type": "stream",
     "text": [
      "100%|██████████| 6/6 [00:00<00:00,  7.58it/s]\n"
     ]
    },
    {
     "name": "stdout",
     "output_type": "stream",
     "text": [
      "Total Number of Reviews Scrapped: 180\n",
      "Total Number of Reviews: 471\n",
      "\n",
      "Loading all reviews...\n"
     ]
    },
    {
     "name": "stderr",
     "output_type": "stream",
     "text": [
      "100%|██████████| 47/47 [01:35<00:00,  2.02s/it]\n"
     ]
    },
    {
     "name": "stdout",
     "output_type": "stream",
     "text": [
      "Load finished\n",
      "\n",
      "Expanding Review..\n"
     ]
    },
    {
     "name": "stderr",
     "output_type": "stream",
     "text": [
      "100%|██████████| 14/14 [00:02<00:00,  5.59it/s]\n"
     ]
    },
    {
     "name": "stdout",
     "output_type": "stream",
     "text": [
      "Total Number of Reviews Scrapped: 470\n",
      "Total Number of Reviews: 250\n",
      "\n",
      "Loading all reviews...\n"
     ]
    },
    {
     "name": "stderr",
     "output_type": "stream",
     "text": [
      "100%|██████████| 25/25 [00:50<00:00,  2.02s/it]\n"
     ]
    },
    {
     "name": "stdout",
     "output_type": "stream",
     "text": [
      "Load finished\n",
      "\n",
      "Expanding Review..\n"
     ]
    },
    {
     "name": "stderr",
     "output_type": "stream",
     "text": [
      "100%|██████████| 6/6 [00:00<00:00,  6.07it/s]\n"
     ]
    },
    {
     "name": "stdout",
     "output_type": "stream",
     "text": [
      "Total Number of Reviews Scrapped: 250\n",
      "Total Number of Reviews: 15\n",
      "\n",
      "Loading all reviews...\n"
     ]
    },
    {
     "name": "stderr",
     "output_type": "stream",
     "text": [
      "100%|██████████| 2/2 [00:04<00:00,  2.02s/it]\n"
     ]
    },
    {
     "name": "stdout",
     "output_type": "stream",
     "text": [
      "Load finished\n",
      "\n",
      "Expanding Review..\n"
     ]
    },
    {
     "name": "stderr",
     "output_type": "stream",
     "text": [
      "100%|██████████| 1/1 [00:00<00:00,  9.93it/s]\n"
     ]
    },
    {
     "name": "stdout",
     "output_type": "stream",
     "text": [
      "Total Number of Reviews Scrapped: 15\n",
      "Total Number of Reviews: 85\n",
      "\n",
      "Loading all reviews...\n"
     ]
    },
    {
     "name": "stderr",
     "output_type": "stream",
     "text": [
      "100%|██████████| 8/8 [00:16<00:00,  2.02s/it]\n"
     ]
    },
    {
     "name": "stdout",
     "output_type": "stream",
     "text": [
      "Load finished\n",
      "\n",
      "Expanding Review..\n"
     ]
    },
    {
     "name": "stderr",
     "output_type": "stream",
     "text": [
      "100%|██████████| 2/2 [00:00<00:00, 10.78it/s]\n"
     ]
    },
    {
     "name": "stdout",
     "output_type": "stream",
     "text": [
      "Total Number of Reviews Scrapped: 85\n"
     ]
    }
   ],
   "source": [
    "num = 1\n",
    "\n",
    "for i in url_jamrud:\n",
    "    a = _scrapping_google_review(i)\n",
    "    review = _get_review_summary(a)\n",
    "    name = f'Google Map Review Jamrud {num}.xlsx'\n",
    "    review.to_excel(name)\n",
    "    num+=1"
   ]
  },
  {
   "cell_type": "markdown",
   "metadata": {},
   "source": [
    "# Cleaning Data"
   ]
  },
  {
   "cell_type": "code",
   "execution_count": 42,
   "metadata": {},
   "outputs": [],
   "source": [
    "import re\n",
    "import string as s\n",
    "import pandas as pd\n",
    "import numpy as np\n",
    "\n",
    "from Sastrawi.StopWordRemover.StopWordRemoverFactory import StopWordRemoverFactory\n",
    "from Sastrawi.Stemmer.StemmerFactory import StemmerFactory\n",
    "from nltk.corpus import stopwords\n",
    "from tqdm import tqdm \n",
    "from IPython.display import clear_output"
   ]
  },
  {
   "cell_type": "code",
   "execution_count": 43,
   "metadata": {},
   "outputs": [],
   "source": [
    "def _remove_emoji(string):\n",
    "    '''Membersihkan Emoji'''\n",
    "    emoji_pattern = re.compile(\"[\"\n",
    "                               u\"\\U0001F600-\\U0001F64F\"  # emoticons\n",
    "                               u\"\\U0001F300-\\U0001F5FF\"  # symbols & pictographs\n",
    "                               u\"\\U0001F680-\\U0001F6FF\"  # transport & map symbols\n",
    "                               u\"\\U0001F1E0-\\U0001F1FF\"  # flags (iOS)\n",
    "                               u\"\\U00002500-\\U00002BEF\"  # chinese char\n",
    "                               u\"\\U00002702-\\U000027B0\"\n",
    "                               u\"\\U00002702-\\U000027B0\"\n",
    "                               u\"\\U000024C2-\\U0001F251\"\n",
    "                               u\"\\U0001f926-\\U0001f937\"\n",
    "                               u\"\\U00010000-\\U0010ffff\"\n",
    "                               u\"\\u2640-\\u2642\"\n",
    "                               u\"\\u2600-\\u2B55\"\n",
    "                               u\"\\u200d\"\n",
    "                               u\"\\u23cf\"\n",
    "                               u\"\\u23e9\"\n",
    "                               u\"\\u231a\"\n",
    "                               u\"\\ufe0f\"  # dingbats\n",
    "                               u\"\\u3030\"\n",
    "                               \"]+\", flags=re.UNICODE)\n",
    "    return emoji_pattern.sub(r'', string)"
   ]
  },
  {
   "cell_type": "code",
   "execution_count": 44,
   "metadata": {},
   "outputs": [],
   "source": [
    "fac = StopWordRemoverFactory()\n",
    "stopword = fac.create_stop_word_remover()\n",
    "\n",
    "stem = StemmerFactory()\n",
    "stemer = stem.create_stemmer()\n",
    "\n",
    "def _stopstem(string):\n",
    "    '''Menghapus stopwords dan melakukan stemming'''\n",
    "    filtered = []\n",
    "    for word in string.split():\n",
    "        a = stemer.stem(word)\n",
    "        a = stopword.remove(word)\n",
    "        filtered.append(a)\n",
    "    return filtered\n",
    "    "
   ]
  },
  {
   "cell_type": "code",
   "execution_count": 45,
   "metadata": {},
   "outputs": [],
   "source": [
    "def _preprocess(string):\n",
    "    #Case Folding\n",
    "    string = string.lower()\n",
    "    string = string.replace('\\n',' ')\n",
    "    \n",
    "    if string.startswith('(diterjemahkan'):\n",
    "        string = ''\n",
    "    else:\n",
    "        pass\n",
    "    \n",
    "    string = re.sub(r\"\\d+\", \"\", string)\n",
    "    string = string.translate(str.maketrans(' ', ' ', s.punctuation))\n",
    "\n",
    "    return string"
   ]
  },
  {
   "cell_type": "code",
   "execution_count": 46,
   "metadata": {},
   "outputs": [],
   "source": [
    "list_stopwords = stopwords.words('indonesian')\n",
    "\n",
    "list_stopwords.extend([\"yg\", \"dg\", \"rt\", \"dgn\", \"ny\", \"d\", 'klo', \n",
    "                       'kalo', 'amp', 'biar', 'bikin', 'bilang', \n",
    "                       'gak', 'ga', 'krn', 'nya', 'nih', 'sih', \n",
    "                       'si', 'tau', 'tdk', 'tuh', 'utk', 'ya', \n",
    "                       'jd', 'jgn', 'sdh', 'aja', 'n', 't', \n",
    "                       'nyg', 'hehe', 'pen', 'u', 'nan', 'loh', 'yah','sip',\n",
    "                       '-','pelabuhan','pelindo'\n",
    "                       'tanjung','perak','surabaya','indonesia','…'])\n",
    "\n",
    "# convert list to dictionary\n",
    "list_stopwords = set(list_stopwords)    \n",
    "\n",
    "def _stop2(words):\n",
    "    return [word for word in words if word not in list_stopwords]"
   ]
  },
  {
   "cell_type": "code",
   "execution_count": 47,
   "metadata": {},
   "outputs": [],
   "source": [
    "def _deletereview0(string):\n",
    "        while '' in string:\n",
    "            string.remove('')\n",
    "        \n",
    "        if len(string)==0:\n",
    "            string = ''\n",
    "        return string"
   ]
  },
  {
   "cell_type": "markdown",
   "metadata": {},
   "source": [
    "## Merge G Maps Review"
   ]
  },
  {
   "cell_type": "code",
   "execution_count": 48,
   "metadata": {},
   "outputs": [],
   "source": [
    "excelgreview = []\n",
    "for file in os.listdir(os.path.join(os.getcwd(),'Google Maps Review')):\n",
    "    if file.endswith('.xlsx'):\n",
    "        excelgreview.append(file)"
   ]
  },
  {
   "cell_type": "code",
   "execution_count": 50,
   "metadata": {},
   "outputs": [
    {
     "name": "stdout",
     "output_type": "stream",
     "text": [
      "Total Review Awal = 4449\n",
      "Total Review dengan Komentar = 3109\n",
      "Total Review setelah menghapus review yang berisikan hanya emoji = 3068\n",
      "Total Review dengan Komentar = 2804\n"
     ]
    },
    {
     "data": {
      "text/html": [
       "<div>\n",
       "<style scoped>\n",
       "    .dataframe tbody tr th:only-of-type {\n",
       "        vertical-align: middle;\n",
       "    }\n",
       "\n",
       "    .dataframe tbody tr th {\n",
       "        vertical-align: top;\n",
       "    }\n",
       "\n",
       "    .dataframe thead th {\n",
       "        text-align: right;\n",
       "    }\n",
       "</style>\n",
       "<table border=\"1\" class=\"dataframe\">\n",
       "  <thead>\n",
       "    <tr style=\"text-align: right;\">\n",
       "      <th></th>\n",
       "      <th>Name</th>\n",
       "      <th>Status</th>\n",
       "      <th>Number of Review</th>\n",
       "      <th>Review Rate</th>\n",
       "      <th>Review Time</th>\n",
       "      <th>Review Text</th>\n",
       "      <th>File</th>\n",
       "    </tr>\n",
       "  </thead>\n",
       "  <tbody>\n",
       "    <tr>\n",
       "      <th>0</th>\n",
       "      <td>anwari anwari</td>\n",
       "      <td>Local Guide</td>\n",
       "      <td>195 ulasan</td>\n",
       "      <td>5 bintang</td>\n",
       "      <td>3 bulan lalu</td>\n",
       "      <td>[melayani, tiket, kapal, laut]</td>\n",
       "      <td>GSN</td>\n",
       "    </tr>\n",
       "    <tr>\n",
       "      <th>1</th>\n",
       "      <td>Luth “Luthfurrahman” Johari</td>\n",
       "      <td>Local Guide</td>\n",
       "      <td>203 ulasan</td>\n",
       "      <td>2 bintang</td>\n",
       "      <td>sebulan lalu</td>\n",
       "      <td>[kotor, teratur, nyaman, minim, fasilitas]</td>\n",
       "      <td>GSN</td>\n",
       "    </tr>\n",
       "    <tr>\n",
       "      <th>2</th>\n",
       "      <td>Wayan Meila</td>\n",
       "      <td>Local Guide</td>\n",
       "      <td>530 ulasan</td>\n",
       "      <td>5 bintang</td>\n",
       "      <td>3 tahun lalu</td>\n",
       "      <td>[terminal, penumpang, nyaman, interior, bandar...</td>\n",
       "      <td>GSN</td>\n",
       "    </tr>\n",
       "    <tr>\n",
       "      <th>3</th>\n",
       "      <td>saToe</td>\n",
       "      <td>Local Guide</td>\n",
       "      <td>663 ulasan</td>\n",
       "      <td>2 bintang</td>\n",
       "      <td>4 tahun lalu</td>\n",
       "      <td>[pembenahan, lobby, arrival, departure, enak, ...</td>\n",
       "      <td>GSN</td>\n",
       "    </tr>\n",
       "    <tr>\n",
       "      <th>4</th>\n",
       "      <td>Zaen Gamal</td>\n",
       "      <td>Local Guide</td>\n",
       "      <td>610 ulasan</td>\n",
       "      <td>5 bintang</td>\n",
       "      <td>4 bulan lalu</td>\n",
       "      <td>[antri, menunggu, kapal, oasis, lembar, multaq...</td>\n",
       "      <td>GSN</td>\n",
       "    </tr>\n",
       "    <tr>\n",
       "      <th>...</th>\n",
       "      <td>...</td>\n",
       "      <td>...</td>\n",
       "      <td>...</td>\n",
       "      <td>...</td>\n",
       "      <td>...</td>\n",
       "      <td>...</td>\n",
       "      <td>...</td>\n",
       "    </tr>\n",
       "    <tr>\n",
       "      <th>2799</th>\n",
       "      <td>MEDIA EDUKASI</td>\n",
       "      <td>Local Guide</td>\n",
       "      <td>522 ulasan</td>\n",
       "      <td>5 bintang</td>\n",
       "      <td>4 tahun lalu</td>\n",
       "      <td>[mantab]</td>\n",
       "      <td>Tanjung Perak 5</td>\n",
       "    </tr>\n",
       "    <tr>\n",
       "      <th>2800</th>\n",
       "      <td>Rizal Fahmi</td>\n",
       "      <td>Local Guide</td>\n",
       "      <td>318 ulasan</td>\n",
       "      <td>5 bintang</td>\n",
       "      <td>3 tahun lalu</td>\n",
       "      <td>[pelindo, port, run]</td>\n",
       "      <td>Tanjung Perak 5</td>\n",
       "    </tr>\n",
       "    <tr>\n",
       "      <th>2801</th>\n",
       "      <td>Suharjo Harjo</td>\n",
       "      <td>Local Guide</td>\n",
       "      <td>1 ulasan</td>\n",
       "      <td>5 bintang</td>\n",
       "      <td>2 hari lalu</td>\n",
       "      <td>[penuh, pengalaman]</td>\n",
       "      <td>Tanjung Perak 5</td>\n",
       "    </tr>\n",
       "    <tr>\n",
       "      <th>2802</th>\n",
       "      <td>Copaey Poetra khayangan</td>\n",
       "      <td>Local Guide</td>\n",
       "      <td>1 ulasan</td>\n",
       "      <td>3 bintang</td>\n",
       "      <td>4 tahun lalu</td>\n",
       "      <td>[joym]</td>\n",
       "      <td>Tanjung Perak 5</td>\n",
       "    </tr>\n",
       "    <tr>\n",
       "      <th>2803</th>\n",
       "      <td>Lailatul Izza</td>\n",
       "      <td>Local Guide</td>\n",
       "      <td>252 ulasan</td>\n",
       "      <td>5 bintang</td>\n",
       "      <td>2 tahun lalu</td>\n",
       "      <td>[nostalgia]</td>\n",
       "      <td>Tanjung Perak 5</td>\n",
       "    </tr>\n",
       "  </tbody>\n",
       "</table>\n",
       "<p>2804 rows × 7 columns</p>\n",
       "</div>"
      ],
      "text/plain": [
       "                               Name       Status Number of Review Review Rate  \\\n",
       "0                    anwari anwari   Local Guide       195 ulasan   5 bintang   \n",
       "1      Luth “Luthfurrahman” Johari   Local Guide       203 ulasan   2 bintang   \n",
       "2                      Wayan Meila   Local Guide       530 ulasan   5 bintang   \n",
       "3                            saToe   Local Guide       663 ulasan   2 bintang   \n",
       "4                       Zaen Gamal   Local Guide       610 ulasan   5 bintang   \n",
       "...                             ...          ...              ...         ...   \n",
       "2799                 MEDIA EDUKASI   Local Guide       522 ulasan   5 bintang   \n",
       "2800                   Rizal Fahmi   Local Guide       318 ulasan   5 bintang   \n",
       "2801                 Suharjo Harjo   Local Guide         1 ulasan   5 bintang   \n",
       "2802       Copaey Poetra khayangan   Local Guide         1 ulasan   3 bintang   \n",
       "2803                 Lailatul Izza   Local Guide       252 ulasan   5 bintang   \n",
       "\n",
       "       Review Time                                        Review Text  \\\n",
       "0     3 bulan lalu                     [melayani, tiket, kapal, laut]   \n",
       "1     sebulan lalu         [kotor, teratur, nyaman, minim, fasilitas]   \n",
       "2     3 tahun lalu  [terminal, penumpang, nyaman, interior, bandar...   \n",
       "3     4 tahun lalu  [pembenahan, lobby, arrival, departure, enak, ...   \n",
       "4     4 bulan lalu  [antri, menunggu, kapal, oasis, lembar, multaq...   \n",
       "...            ...                                                ...   \n",
       "2799  4 tahun lalu                                           [mantab]   \n",
       "2800  3 tahun lalu                               [pelindo, port, run]   \n",
       "2801   2 hari lalu                                [penuh, pengalaman]   \n",
       "2802  4 tahun lalu                                             [joym]   \n",
       "2803  2 tahun lalu                                        [nostalgia]   \n",
       "\n",
       "                 File  \n",
       "0                 GSN  \n",
       "1                 GSN  \n",
       "2                 GSN  \n",
       "3                 GSN  \n",
       "4                 GSN  \n",
       "...               ...  \n",
       "2799  Tanjung Perak 5  \n",
       "2800  Tanjung Perak 5  \n",
       "2801  Tanjung Perak 5  \n",
       "2802  Tanjung Perak 5  \n",
       "2803  Tanjung Perak 5  \n",
       "\n",
       "[2804 rows x 7 columns]"
      ]
     },
     "execution_count": 50,
     "metadata": {},
     "output_type": "execute_result"
    }
   ],
   "source": [
    "reviewpenumpang = pd.DataFrame()\n",
    "for file in excelgreview:\n",
    "    path = os.path.join(os.getcwd(),'Google Maps Review',file)\n",
    "    filename = str(file[:-5])\n",
    "    filename = re.sub('Google Map Review ','',filename)\n",
    "    exc = pd.read_excel(path)\n",
    "    exc['File'] = filename\n",
    "    reviewpenumpang = reviewpenumpang.append(exc)\n",
    "    clear_output(wait=False)\n",
    "#reviewpenumpang.to_excel('gabungan.xlsx')\n",
    "# Hapus kolom index\n",
    "reviewpenumpang = reviewpenumpang.drop(reviewpenumpang.columns[[0]],axis=1)\n",
    "\n",
    "print(f'Total Review Awal = {len(reviewpenumpang)}')\n",
    "reviewpenumpang\n",
    "\n",
    "# Hapus Review Kosong pada Review Text\n",
    "reviewpenumpang = reviewpenumpang[reviewpenumpang['Review Text'].notnull()]\n",
    "reviewpenumpang = reviewpenumpang.reset_index(drop=True)\n",
    "print(f'Total Review dengan Komentar = {len(reviewpenumpang)}')\n",
    "\n",
    "# Hapus Emoji\n",
    "reviewpenumpang['Review Text'] = reviewpenumpang['Review Text'].apply(_remove_emoji)\n",
    "\n",
    "reviewpenumpang = reviewpenumpang[reviewpenumpang['Review Text']!= '']\n",
    "reviewpenumpang = reviewpenumpang[reviewpenumpang['Review Text']!= ' ']\n",
    "reviewpenumpang = reviewpenumpang.reset_index(drop=True)\n",
    "print(f'Total Review setelah menghapus review yang berisikan hanya emoji = {len(reviewpenumpang)}')\n",
    "\n",
    "# Preprocess Text\n",
    "reviewpenumpang['Review Text'] = reviewpenumpang['Review Text'].apply(_preprocess)\n",
    "reviewpenumpang['Review Text'] = reviewpenumpang['Review Text'].apply(_stopstem)\n",
    "reviewpenumpang['Review Text'] = reviewpenumpang['Review Text'].apply(_stop2)\n",
    "reviewpenumpang['Review Text'] = reviewpenumpang['Review Text'].apply(_deletereview0)\n",
    "\n",
    "# Menghapus kembali Review Kosong pada Review Text setelah preprocess\n",
    "reviewpenumpang = reviewpenumpang[reviewpenumpang['Review Text'] != '']\n",
    "reviewpenumpang = reviewpenumpang.reset_index(drop=True)\n",
    "print(f'Total Review dengan Komentar = {len(reviewpenumpang)}')\n",
    "\n",
    "# Strip review rate\n",
    "for i in range(0,len(reviewpenumpang)):\n",
    "    reviewpenumpang['Review Rate'][i] = reviewpenumpang['Review Rate'][i].strip()\n",
    "\n",
    "reviewpenumpang"
   ]
  },
  {
   "cell_type": "code",
   "execution_count": 56,
   "metadata": {},
   "outputs": [],
   "source": [
    "def _listtostring(listnya):\n",
    "    a = ''\n",
    "    for i in listnya:\n",
    "        a += i + \" \"\n",
    "    return a\n",
    "\n",
    "reviewpenumpangcl = reviewpenumpang.copy()\n",
    "reviewpenumpangcl['Review Text'] = reviewpenumpangcl['Review Text'].apply(_listtostring)\n",
    "reviewpenumpangcl.to_excel('Clear.xlsx')"
   ]
  },
  {
   "cell_type": "code",
   "execution_count": 57,
   "metadata": {},
   "outputs": [],
   "source": [
    "def _stringtolist(string):\n",
    "    a = string.split()\n",
    "    return a\n",
    "reviewpenumpangcl = pd.read_excel('Clear.xlsx')\n",
    "reviewpenumpangcl['Review Text'] = reviewpenumpangcl['Review Text'].apply(_stringtolist)\n",
    "reviewpenumpangcl = reviewpenumpangcl.drop(reviewpenumpangcl.columns[[0]],axis=1)\n",
    "\n",
    "reviewpenumpang = reviewpenumpangcl.copy()"
   ]
  },
  {
   "cell_type": "code",
   "execution_count": 58,
   "metadata": {},
   "outputs": [
    {
     "data": {
      "text/plain": [
       "5 bintang    1702\n",
       "4 bintang     673\n",
       "3 bintang     268\n",
       "2 bintang      61\n",
       "1 bintang     100\n",
       "Name: Review Rate, dtype: int64"
      ]
     },
     "execution_count": 58,
     "metadata": {},
     "output_type": "execute_result"
    }
   ],
   "source": [
    "#Dataframe by star\n",
    "crosstab_bintang = reviewpenumpang['Review Rate'].value_counts().sort_index(ascending=False)\n",
    "reviewpenumpang5 = reviewpenumpang[reviewpenumpang['Review Rate']=='5 bintang'].reset_index(drop=True)\n",
    "reviewpenumpang4 = reviewpenumpang[reviewpenumpang['Review Rate']=='4 bintang'].reset_index(drop=True)\n",
    "reviewpenumpang3 = reviewpenumpang[reviewpenumpang['Review Rate']=='3 bintang'].reset_index(drop=True)\n",
    "reviewpenumpang2 = reviewpenumpang[reviewpenumpang['Review Rate']=='2 bintang'].reset_index(drop=True)\n",
    "reviewpenumpang1 = reviewpenumpang[reviewpenumpang['Review Rate']=='1 bintang'].reset_index(drop=True)\n",
    "crosstab_bintang"
   ]
  },
  {
   "cell_type": "code",
   "execution_count": 60,
   "metadata": {},
   "outputs": [
    {
     "name": "stderr",
     "output_type": "stream",
     "text": [
      "C:\\Users\\Ahmad Ulfi\\AppData\\Local\\Temp\\ipykernel_1072\\2229263735.py:1: FutureWarning: The frame.append method is deprecated and will be removed from pandas in a future version. Use pandas.concat instead.\n",
      "  reviewpenumpangpuas = reviewpenumpang5.append(reviewpenumpang4).reset_index(drop=True)\n",
      "C:\\Users\\Ahmad Ulfi\\AppData\\Local\\Temp\\ipykernel_1072\\2229263735.py:2: FutureWarning: The frame.append method is deprecated and will be removed from pandas in a future version. Use pandas.concat instead.\n",
      "  reviewpenumpangtidakpuas = reviewpenumpang1.append(reviewpenumpang2).append(reviewpenumpang3).reset_index(drop=True)\n"
     ]
    }
   ],
   "source": [
    "reviewpenumpangpuas = reviewpenumpang5.append(reviewpenumpang4).reset_index(drop=True)\n",
    "reviewpenumpangtidakpuas = reviewpenumpang1.append(reviewpenumpang2).append(reviewpenumpang3).reset_index(drop=True)"
   ]
  },
  {
   "cell_type": "markdown",
   "metadata": {},
   "source": [
    "## Word Cloud"
   ]
  },
  {
   "cell_type": "code",
   "execution_count": 139,
   "metadata": {},
   "outputs": [],
   "source": [
    "import matplotlib.pyplot as plt\n",
    "from wordcloud import WordCloud"
   ]
  },
  {
   "cell_type": "code",
   "execution_count": 140,
   "metadata": {},
   "outputs": [],
   "source": [
    "def _wordcloud(df):    \n",
    "    wordcloud = \"\"\n",
    "    for i in range(0,len(df)):\n",
    "        for text in df['Review Text'][i]:\n",
    "            #print(text)\n",
    "            wordcloud += text + \" \"\n",
    "\n",
    "    word_cloud = WordCloud(collocations = False, background_color = 'white').generate(wordcloud)\n",
    "\n",
    "    plt.imshow(word_cloud, interpolation='bilinear')\n",
    "    plt.axis(\"off\")\n",
    "    plt.show()"
   ]
  },
  {
   "cell_type": "code",
   "execution_count": 141,
   "metadata": {},
   "outputs": [
    {
     "data": {
      "image/png": "[encoded data removed]",
      "text/plain": [
       "<Figure size 432x288 with 1 Axes>"
      ]
     },
     "metadata": {
      "needs_background": "light"
     },
     "output_type": "display_data"
    },
    {
     "data": {
      "image/png": "[encoded data removed]",
      "text/plain": [
       "<Figure size 432x288 with 1 Axes>"
      ]
     },
     "metadata": {
      "needs_background": "light"
     },
     "output_type": "display_data"
    }
   ],
   "source": [
    "_wordcloud(reviewpenumpangtidakpuas)\n",
    "_wordcloud(reviewpenumpangpuas)"
   ]
  },
  {
   "cell_type": "markdown",
   "metadata": {},
   "source": [
    "## LDA"
   ]
  },
  {
   "cell_type": "code",
   "execution_count": 7,
   "metadata": {},
   "outputs": [],
   "source": [
    "#reviewgsn = reviewpenumpang[reviewpenumpang['File'] == 'GSN']"
   ]
  },
  {
   "cell_type": "markdown",
   "metadata": {},
   "source": [
    "### Review Tanjung Perak"
   ]
  },
  {
   "cell_type": "code",
   "execution_count": 61,
   "metadata": {},
   "outputs": [],
   "source": [
    "Tanjung = ['Tanjung Perak 1', 'Tanjung Perak 2', 'Tanjung Perak 3','Tanjung Perak 5']\n",
    "reviewdatatanjungpuas = reviewpenumpangpuas[(reviewpenumpangpuas['File'].isin(Tanjung))].reset_index(drop=True)\n",
    "reviewdatatanjungtidakpuas = reviewpenumpangtidakpuas[(reviewpenumpangtidakpuas['File'].isin(Tanjung))].reset_index(drop=True)"
   ]
  },
  {
   "cell_type": "markdown",
   "metadata": {},
   "source": [
    "### Review Data Jamrud"
   ]
  },
  {
   "cell_type": "code",
   "execution_count": 62,
   "metadata": {},
   "outputs": [],
   "source": [
    "Jamrud = ['Jamrud 1', 'Jamrud 2', 'Jamrud 3', 'Jamrud 4', 'Jamrud 5',]\n",
    "reviewdatajamrud = reviewpenumpang[(reviewpenumpang['File'].isin(Jamrud))].reset_index(drop=True)\n",
    "reviewdatajamrudpuas = reviewpenumpangpuas[(reviewpenumpangpuas['File'].isin(Jamrud))].reset_index(drop=True)\n",
    "reviewdatajamrudtidakpuas = reviewpenumpangtidakpuas[(reviewpenumpangtidakpuas['File'].isin(Jamrud))].reset_index(drop=True)"
   ]
  },
  {
   "cell_type": "markdown",
   "metadata": {},
   "source": [
    "### Review Data Roro"
   ]
  },
  {
   "cell_type": "code",
   "execution_count": 63,
   "metadata": {},
   "outputs": [],
   "source": [
    "Roro = ['Roro 1', 'Roro 2']\n",
    "reviewdataroro = reviewpenumpang[(reviewpenumpang['File'].isin(Roro))].reset_index(drop=True)\n",
    "reviewdataroropuas = reviewpenumpangpuas[(reviewpenumpangpuas['File'].isin(Roro))].reset_index(drop=True)\n",
    "reviewdatarorotidakpuas = reviewpenumpangtidakpuas[(reviewpenumpangtidakpuas['File'].isin(Roro))].reset_index(drop=True)"
   ]
  },
  {
   "cell_type": "markdown",
   "metadata": {},
   "source": [
    "### Review Data GSN"
   ]
  },
  {
   "cell_type": "code",
   "execution_count": 64,
   "metadata": {},
   "outputs": [
    {
     "data": {
      "text/html": [
       "<div>\n",
       "<style scoped>\n",
       "    .dataframe tbody tr th:only-of-type {\n",
       "        vertical-align: middle;\n",
       "    }\n",
       "\n",
       "    .dataframe tbody tr th {\n",
       "        vertical-align: top;\n",
       "    }\n",
       "\n",
       "    .dataframe thead th {\n",
       "        text-align: right;\n",
       "    }\n",
       "</style>\n",
       "<table border=\"1\" class=\"dataframe\">\n",
       "  <thead>\n",
       "    <tr style=\"text-align: right;\">\n",
       "      <th></th>\n",
       "      <th>Name</th>\n",
       "      <th>Status</th>\n",
       "      <th>Number of Review</th>\n",
       "      <th>Review Rate</th>\n",
       "      <th>Review Time</th>\n",
       "      <th>Review Text</th>\n",
       "      <th>File</th>\n",
       "    </tr>\n",
       "  </thead>\n",
       "  <tbody>\n",
       "    <tr>\n",
       "      <th>0</th>\n",
       "      <td>anwari anwari</td>\n",
       "      <td>Local Guide</td>\n",
       "      <td>195 ulasan</td>\n",
       "      <td>5 bintang</td>\n",
       "      <td>3 bulan lalu</td>\n",
       "      <td>[melayani, tiket, kapal, laut]</td>\n",
       "      <td>GSN</td>\n",
       "    </tr>\n",
       "    <tr>\n",
       "      <th>1</th>\n",
       "      <td>Luth “Luthfurrahman” Johari</td>\n",
       "      <td>Local Guide</td>\n",
       "      <td>203 ulasan</td>\n",
       "      <td>2 bintang</td>\n",
       "      <td>sebulan lalu</td>\n",
       "      <td>[kotor, teratur, nyaman, minim, fasilitas]</td>\n",
       "      <td>GSN</td>\n",
       "    </tr>\n",
       "    <tr>\n",
       "      <th>2</th>\n",
       "      <td>Wayan Meila</td>\n",
       "      <td>Local Guide</td>\n",
       "      <td>530 ulasan</td>\n",
       "      <td>5 bintang</td>\n",
       "      <td>3 tahun lalu</td>\n",
       "      <td>[terminal, penumpang, nyaman, interior, bandar...</td>\n",
       "      <td>GSN</td>\n",
       "    </tr>\n",
       "    <tr>\n",
       "      <th>3</th>\n",
       "      <td>saToe</td>\n",
       "      <td>Local Guide</td>\n",
       "      <td>663 ulasan</td>\n",
       "      <td>2 bintang</td>\n",
       "      <td>4 tahun lalu</td>\n",
       "      <td>[pembenahan, lobby, arrival, departure, enak, ...</td>\n",
       "      <td>GSN</td>\n",
       "    </tr>\n",
       "    <tr>\n",
       "      <th>4</th>\n",
       "      <td>Zaen Gamal</td>\n",
       "      <td>Local Guide</td>\n",
       "      <td>610 ulasan</td>\n",
       "      <td>5 bintang</td>\n",
       "      <td>4 bulan lalu</td>\n",
       "      <td>[antri, menunggu, kapal, oasis, lembar, multaq...</td>\n",
       "      <td>GSN</td>\n",
       "    </tr>\n",
       "    <tr>\n",
       "      <th>...</th>\n",
       "      <td>...</td>\n",
       "      <td>...</td>\n",
       "      <td>...</td>\n",
       "      <td>...</td>\n",
       "      <td>...</td>\n",
       "      <td>...</td>\n",
       "      <td>...</td>\n",
       "    </tr>\n",
       "    <tr>\n",
       "      <th>64</th>\n",
       "      <td>Yuliani Selaras</td>\n",
       "      <td>Local Guide</td>\n",
       "      <td>2 ulasan</td>\n",
       "      <td>5 bintang</td>\n",
       "      <td>4 tahun lalu</td>\n",
       "      <td>[keren]</td>\n",
       "      <td>GSN</td>\n",
       "    </tr>\n",
       "    <tr>\n",
       "      <th>65</th>\n",
       "      <td>MBUNA NEW FLA</td>\n",
       "      <td>Local Guide</td>\n",
       "      <td>3 ulasan</td>\n",
       "      <td>5 bintang</td>\n",
       "      <td>2 tahun lalu</td>\n",
       "      <td>[free, polusi]</td>\n",
       "      <td>GSN</td>\n",
       "    </tr>\n",
       "    <tr>\n",
       "      <th>66</th>\n",
       "      <td>Jogi Ardyawan</td>\n",
       "      <td>Local Guide</td>\n",
       "      <td>42 ulasan</td>\n",
       "      <td>3 bintang</td>\n",
       "      <td>4 tahun lalu</td>\n",
       "      <td>[gedung, representative]</td>\n",
       "      <td>GSN</td>\n",
       "    </tr>\n",
       "    <tr>\n",
       "      <th>67</th>\n",
       "      <td>Imach Satar</td>\n",
       "      <td>Local Guide</td>\n",
       "      <td>13 ulasan</td>\n",
       "      <td>3 bintang</td>\n",
       "      <td>seminggu lalu</td>\n",
       "      <td>[tempatnya, lumayan, tp, minim, fasilitas, ked...</td>\n",
       "      <td>GSN</td>\n",
       "    </tr>\n",
       "    <tr>\n",
       "      <th>68</th>\n",
       "      <td>janai basy</td>\n",
       "      <td>Local Guide</td>\n",
       "      <td>107 ulasan</td>\n",
       "      <td>5 bintang</td>\n",
       "      <td>3 bulan lalu</td>\n",
       "      <td>[km, awu, melayani, perjalanan, surabayabenoab...</td>\n",
       "      <td>GSN</td>\n",
       "    </tr>\n",
       "  </tbody>\n",
       "</table>\n",
       "<p>69 rows × 7 columns</p>\n",
       "</div>"
      ],
      "text/plain": [
       "                             Name       Status Number of Review Review Rate  \\\n",
       "0                  anwari anwari   Local Guide       195 ulasan   5 bintang   \n",
       "1    Luth “Luthfurrahman” Johari   Local Guide       203 ulasan   2 bintang   \n",
       "2                    Wayan Meila   Local Guide       530 ulasan   5 bintang   \n",
       "3                          saToe   Local Guide       663 ulasan   2 bintang   \n",
       "4                     Zaen Gamal   Local Guide       610 ulasan   5 bintang   \n",
       "..                            ...          ...              ...         ...   \n",
       "64               Yuliani Selaras   Local Guide         2 ulasan   5 bintang   \n",
       "65                 MBUNA NEW FLA   Local Guide         3 ulasan   5 bintang   \n",
       "66                 Jogi Ardyawan   Local Guide        42 ulasan   3 bintang   \n",
       "67                   Imach Satar   Local Guide        13 ulasan   3 bintang   \n",
       "68                    janai basy   Local Guide       107 ulasan   5 bintang   \n",
       "\n",
       "      Review Time                                        Review Text File  \n",
       "0    3 bulan lalu                     [melayani, tiket, kapal, laut]  GSN  \n",
       "1    sebulan lalu         [kotor, teratur, nyaman, minim, fasilitas]  GSN  \n",
       "2    3 tahun lalu  [terminal, penumpang, nyaman, interior, bandar...  GSN  \n",
       "3    4 tahun lalu  [pembenahan, lobby, arrival, departure, enak, ...  GSN  \n",
       "4    4 bulan lalu  [antri, menunggu, kapal, oasis, lembar, multaq...  GSN  \n",
       "..            ...                                                ...  ...  \n",
       "64   4 tahun lalu                                            [keren]  GSN  \n",
       "65   2 tahun lalu                                     [free, polusi]  GSN  \n",
       "66   4 tahun lalu                           [gedung, representative]  GSN  \n",
       "67  seminggu lalu  [tempatnya, lumayan, tp, minim, fasilitas, ked...  GSN  \n",
       "68   3 bulan lalu  [km, awu, melayani, perjalanan, surabayabenoab...  GSN  \n",
       "\n",
       "[69 rows x 7 columns]"
      ]
     },
     "execution_count": 64,
     "metadata": {},
     "output_type": "execute_result"
    }
   ],
   "source": [
    "reviewdatagsn = reviewpenumpang[(reviewpenumpang['File']=='GSN')].reset_index(drop=True)\n",
    "reviewdatagsn"
   ]
  },
  {
   "cell_type": "markdown",
   "metadata": {},
   "source": [
    "### Review Data SNQ"
   ]
  },
  {
   "cell_type": "code",
   "execution_count": 65,
   "metadata": {},
   "outputs": [
    {
     "data": {
      "text/html": [
       "<div>\n",
       "<style scoped>\n",
       "    .dataframe tbody tr th:only-of-type {\n",
       "        vertical-align: middle;\n",
       "    }\n",
       "\n",
       "    .dataframe tbody tr th {\n",
       "        vertical-align: top;\n",
       "    }\n",
       "\n",
       "    .dataframe thead th {\n",
       "        text-align: right;\n",
       "    }\n",
       "</style>\n",
       "<table border=\"1\" class=\"dataframe\">\n",
       "  <thead>\n",
       "    <tr style=\"text-align: right;\">\n",
       "      <th></th>\n",
       "      <th>Name</th>\n",
       "      <th>Status</th>\n",
       "      <th>Number of Review</th>\n",
       "      <th>Review Rate</th>\n",
       "      <th>Review Time</th>\n",
       "      <th>Review Text</th>\n",
       "      <th>File</th>\n",
       "    </tr>\n",
       "  </thead>\n",
       "  <tbody>\n",
       "    <tr>\n",
       "      <th>0</th>\n",
       "      <td>Immash Pratiwi</td>\n",
       "      <td>Local Guide</td>\n",
       "      <td>113 ulasan</td>\n",
       "      <td>4 bintang</td>\n",
       "      <td>5 bulan lalu</td>\n",
       "      <td>[masuk, area, parkir, membayar, loket, membaya...</td>\n",
       "      <td>SNQ</td>\n",
       "    </tr>\n",
       "    <tr>\n",
       "      <th>1</th>\n",
       "      <td>Zulfa Na</td>\n",
       "      <td>Local Guide</td>\n",
       "      <td>107 ulasan</td>\n",
       "      <td>3 bintang</td>\n",
       "      <td>5 bulan lalu</td>\n",
       "      <td>[tempatnya, bagus, makanannya, beragam, hargan...</td>\n",
       "      <td>SNQ</td>\n",
       "    </tr>\n",
       "    <tr>\n",
       "      <th>2</th>\n",
       "      <td>Ridwan Muhammady</td>\n",
       "      <td>Local Guide</td>\n",
       "      <td>906 ulasan</td>\n",
       "      <td>3 bintang</td>\n",
       "      <td>5 bulan lalu</td>\n",
       "      <td>[kesini, bayarnya, x, lantai, bayar, rborang, ...</td>\n",
       "      <td>SNQ</td>\n",
       "    </tr>\n",
       "    <tr>\n",
       "      <th>3</th>\n",
       "      <td>debieika anshory</td>\n",
       "      <td>Local Guide</td>\n",
       "      <td>11 ulasan</td>\n",
       "      <td>4 bintang</td>\n",
       "      <td>4 minggu lalu</td>\n",
       "      <td>[ah, serius, nyaman, bgt, santai, ama, pasanga...</td>\n",
       "      <td>SNQ</td>\n",
       "    </tr>\n",
       "    <tr>\n",
       "      <th>4</th>\n",
       "      <td>Ruli Retno</td>\n",
       "      <td>Local Guide</td>\n",
       "      <td>556 ulasan</td>\n",
       "      <td>4 bintang</td>\n",
       "      <td>2 bulan lalu</td>\n",
       "      <td>[lumayan, banget, main, kota, bayar, rb, liat,...</td>\n",
       "      <td>SNQ</td>\n",
       "    </tr>\n",
       "    <tr>\n",
       "      <th>...</th>\n",
       "      <td>...</td>\n",
       "      <td>...</td>\n",
       "      <td>...</td>\n",
       "      <td>...</td>\n",
       "      <td>...</td>\n",
       "      <td>...</td>\n",
       "      <td>...</td>\n",
       "    </tr>\n",
       "    <tr>\n",
       "      <th>924</th>\n",
       "      <td>Rafika Firdani Auliya</td>\n",
       "      <td>Local Guide</td>\n",
       "      <td>100 ulasan</td>\n",
       "      <td>5 bintang</td>\n",
       "      <td>2 tahun lalu</td>\n",
       "      <td>[cocok, banget, liat, sunset, kapal, pesiar, g...</td>\n",
       "      <td>SNQ</td>\n",
       "    </tr>\n",
       "    <tr>\n",
       "      <th>925</th>\n",
       "      <td>Ika Nur Noviyanti</td>\n",
       "      <td>Local Guide</td>\n",
       "      <td>89 ulasan</td>\n",
       "      <td>4 bintang</td>\n",
       "      <td>setahun lalu</td>\n",
       "      <td>[makan, view, laut, wow]</td>\n",
       "      <td>SNQ</td>\n",
       "    </tr>\n",
       "    <tr>\n",
       "      <th>926</th>\n",
       "      <td>Danny Kosasih</td>\n",
       "      <td>Local Guide</td>\n",
       "      <td>206 ulasan</td>\n",
       "      <td>4 bintang</td>\n",
       "      <td>4 tahun lalu</td>\n",
       "      <td>[pasar, hati, beli, apel, bungkus, busuk, sisi...</td>\n",
       "      <td>SNQ</td>\n",
       "    </tr>\n",
       "    <tr>\n",
       "      <th>927</th>\n",
       "      <td>Muhammad Farhan</td>\n",
       "      <td>Local Guide</td>\n",
       "      <td>176 ulasan</td>\n",
       "      <td>5 bintang</td>\n",
       "      <td>4 bulan lalu</td>\n",
       "      <td>[bagus, menikmati, senja, didalamnya, museum, ...</td>\n",
       "      <td>SNQ</td>\n",
       "    </tr>\n",
       "    <tr>\n",
       "      <th>928</th>\n",
       "      <td>Platinum English Club</td>\n",
       "      <td>Local Guide</td>\n",
       "      <td>45 ulasan</td>\n",
       "      <td>5 bintang</td>\n",
       "      <td>3 tahun lalu</td>\n",
       "      <td>[jalan, masuknya, kumuh, byk, penumpang, kapal...</td>\n",
       "      <td>SNQ</td>\n",
       "    </tr>\n",
       "  </tbody>\n",
       "</table>\n",
       "<p>929 rows × 7 columns</p>\n",
       "</div>"
      ],
      "text/plain": [
       "                        Name       Status Number of Review Review Rate  \\\n",
       "0            Immash Pratiwi   Local Guide       113 ulasan   4 bintang   \n",
       "1                  Zulfa Na   Local Guide       107 ulasan   3 bintang   \n",
       "2          Ridwan Muhammady   Local Guide       906 ulasan   3 bintang   \n",
       "3          debieika anshory   Local Guide        11 ulasan   4 bintang   \n",
       "4                Ruli Retno   Local Guide       556 ulasan   4 bintang   \n",
       "..                       ...          ...              ...         ...   \n",
       "924   Rafika Firdani Auliya   Local Guide       100 ulasan   5 bintang   \n",
       "925       Ika Nur Noviyanti   Local Guide        89 ulasan   4 bintang   \n",
       "926           Danny Kosasih   Local Guide       206 ulasan   4 bintang   \n",
       "927         Muhammad Farhan   Local Guide       176 ulasan   5 bintang   \n",
       "928   Platinum English Club   Local Guide        45 ulasan   5 bintang   \n",
       "\n",
       "       Review Time                                        Review Text File  \n",
       "0     5 bulan lalu  [masuk, area, parkir, membayar, loket, membaya...  SNQ  \n",
       "1     5 bulan lalu  [tempatnya, bagus, makanannya, beragam, hargan...  SNQ  \n",
       "2     5 bulan lalu  [kesini, bayarnya, x, lantai, bayar, rborang, ...  SNQ  \n",
       "3    4 minggu lalu  [ah, serius, nyaman, bgt, santai, ama, pasanga...  SNQ  \n",
       "4     2 bulan lalu  [lumayan, banget, main, kota, bayar, rb, liat,...  SNQ  \n",
       "..             ...                                                ...  ...  \n",
       "924   2 tahun lalu  [cocok, banget, liat, sunset, kapal, pesiar, g...  SNQ  \n",
       "925   setahun lalu                           [makan, view, laut, wow]  SNQ  \n",
       "926   4 tahun lalu  [pasar, hati, beli, apel, bungkus, busuk, sisi...  SNQ  \n",
       "927   4 bulan lalu  [bagus, menikmati, senja, didalamnya, museum, ...  SNQ  \n",
       "928   3 tahun lalu  [jalan, masuknya, kumuh, byk, penumpang, kapal...  SNQ  \n",
       "\n",
       "[929 rows x 7 columns]"
      ]
     },
     "execution_count": 65,
     "metadata": {},
     "output_type": "execute_result"
    }
   ],
   "source": [
    "reviewdatasnq = reviewpenumpang[(reviewpenumpang['File']=='SNQ')].reset_index(drop=True)\n",
    "reviewdatasnq"
   ]
  },
  {
   "cell_type": "markdown",
   "metadata": {},
   "source": [
    "## Latent Dirichlet Allocation"
   ]
  },
  {
   "cell_type": "markdown",
   "metadata": {},
   "source": [
    "### Review Tanjung Perak"
   ]
  },
  {
   "cell_type": "code",
   "execution_count": 66,
   "metadata": {},
   "outputs": [],
   "source": [
    "from gensim import corpora, models\n",
    "from gensim.models.coherencemodel import CoherenceModel\n",
    "from gensim.models.ldamodel import LdaModel\n",
    "from gensim.corpora.dictionary import Dictionary\n",
    "from numpy import array\n",
    "import matplotlib.pyplot as plt\n",
    "\n",
    "#function to compute coherence values\n",
    "def compute_coherence_values(dictionary, corpus, texts, limit, start, step):\n",
    "    coherence_values = []\n",
    "    model_list = []\n",
    "    for num_topics in tqdm(range(start, limit, step)):\n",
    "        model = LdaModel(corpus=corpus, id2word=dictionary, num_topics=num_topics, iterations=300)\n",
    "        model_list.append(model)\n",
    "        coherencemodel = CoherenceModel(model=model, texts=texts, dictionary=dictionary, coherence='c_v')\n",
    "        coherence_values.append(coherencemodel.get_coherence())\n",
    "        \n",
    "    return model_list, coherence_values"
   ]
  },
  {
   "cell_type": "code",
   "execution_count": 94,
   "metadata": {},
   "outputs": [],
   "source": [
    "def _LatentDirichletAllocation(datalda):\n",
    "    dictionary = corpora.Dictionary(datalda)\n",
    "\n",
    "    doc_term_matrix = [dictionary.doc2bow(doc) for doc in datalda]\n",
    "\n",
    "    start=1\n",
    "    limit=5\n",
    "    step=1\n",
    "\n",
    "    corpus_tfidf = models.TfidfModel(doc_term_matrix)[doc_term_matrix]\n",
    "    model_list, coherence_values = compute_coherence_values(dictionary, corpus=corpus_tfidf, \n",
    "                                                        texts=datalda, start=start, limit=limit, step=step)\n",
    "    HasilCoherence = pd.DataFrame({'Model': model_list,'Coherence Value':coherence_values})\n",
    "    \n",
    "    #show graphs\n",
    "    \n",
    "    \n",
    "    x = range(start, limit, step)\n",
    "    PlotCoherence, ax = plt.subplots(figsize=(10, 8))\n",
    "    ax.plot(x, coherence_values)\n",
    "    plt.xlabel(\"Num Topics\")\n",
    "    plt.ylabel(\"Coherence score\")\n",
    "    plt.legend((\"coherence_values\"), loc='best')\n",
    "    plt.grid(True)\n",
    "\n",
    "    HasilCoherenceMax = int(HasilCoherence[HasilCoherence['Coherence Value'] == HasilCoherence['Coherence Value'].max()].index.values)\n",
    "    Model = HasilCoherence['Model'][HasilCoherenceMax].show_topics(num_topics=(HasilCoherenceMax+1))\n",
    "\n",
    "    # Word Count of Topic Keywords\n",
    "\n",
    "    from collections import Counter\n",
    "    topics = HasilCoherence['Model'][HasilCoherenceMax].show_topics(False)\n",
    "    data_flat = [w for w_list in datalda for w in w_list]\n",
    "    counter = Counter(data_flat)\n",
    "\n",
    "    out = []\n",
    "    for i, topic in topics:\n",
    "        for word, weight in topic:\n",
    "            out.append([word, i , weight, counter[word]])\n",
    "\n",
    "    df_imp_wcount = pd.DataFrame(out, columns=['word', 'topic_id', 'importance', 'word_count']) \n",
    "    \n",
    "    return doc_term_matrix, HasilCoherence, HasilCoherenceMax, Model, PlotCoherence, df_imp_wcount"
   ]
  },
  {
   "cell_type": "markdown",
   "metadata": {},
   "source": [
    "### Tanjung Perak"
   ]
  },
  {
   "cell_type": "code",
   "execution_count": 95,
   "metadata": {},
   "outputs": [
    {
     "name": "stderr",
     "output_type": "stream",
     "text": [
      "100%|██████████| 4/4 [00:10<00:00,  2.51s/it]\n"
     ]
    },
    {
     "ename": "ValueError",
     "evalue": "not enough values to unpack (expected 2, got 1)",
     "output_type": "error",
     "traceback": [
      "\u001b[1;31m---------------------------------------------------------------------------\u001b[0m",
      "\u001b[1;31mValueError\u001b[0m                                Traceback (most recent call last)",
      "\u001b[1;32md:\\KULIAH\\SKRIPSI\\Scrapping\\pkl-skripsi\\Web Scrapping.ipynb Cell 59\u001b[0m in \u001b[0;36m<cell line: 1>\u001b[1;34m()\u001b[0m\n\u001b[1;32m----> <a href='vscode-notebook-cell:/d%3A/KULIAH/SKRIPSI/Scrapping/pkl-skripsi/Web%20Scrapping.ipynb#Y143sZmlsZQ%3D%3D?line=0'>1</a>\u001b[0m DocTjPuas, CoherenceTjPuas,CoherenceTjPuasMax,ModelTjPuas, PlotTjPuas, ImpTjPuas \u001b[39m=\u001b[39m _LatentDirichletAllocation(\n\u001b[0;32m      <a href='vscode-notebook-cell:/d%3A/KULIAH/SKRIPSI/Scrapping/pkl-skripsi/Web%20Scrapping.ipynb#Y143sZmlsZQ%3D%3D?line=1'>2</a>\u001b[0m     reviewdatatanjungpuas[\u001b[39m'\u001b[39;49m\u001b[39mReview Text\u001b[39;49m\u001b[39m'\u001b[39;49m])\n",
      "\u001b[1;32md:\\KULIAH\\SKRIPSI\\Scrapping\\pkl-skripsi\\Web Scrapping.ipynb Cell 59\u001b[0m in \u001b[0;36m_LatentDirichletAllocation\u001b[1;34m(datalda)\u001b[0m\n\u001b[0;32m     <a href='vscode-notebook-cell:/d%3A/KULIAH/SKRIPSI/Scrapping/pkl-skripsi/Web%20Scrapping.ipynb#Y143sZmlsZQ%3D%3D?line=35'>36</a>\u001b[0m out \u001b[39m=\u001b[39m []\n\u001b[0;32m     <a href='vscode-notebook-cell:/d%3A/KULIAH/SKRIPSI/Scrapping/pkl-skripsi/Web%20Scrapping.ipynb#Y143sZmlsZQ%3D%3D?line=36'>37</a>\u001b[0m \u001b[39mfor\u001b[39;00m i, topic \u001b[39min\u001b[39;00m topics:\n\u001b[1;32m---> <a href='vscode-notebook-cell:/d%3A/KULIAH/SKRIPSI/Scrapping/pkl-skripsi/Web%20Scrapping.ipynb#Y143sZmlsZQ%3D%3D?line=37'>38</a>\u001b[0m     \u001b[39mfor\u001b[39;00m word, weight \u001b[39min\u001b[39;00m topic:\n\u001b[0;32m     <a href='vscode-notebook-cell:/d%3A/KULIAH/SKRIPSI/Scrapping/pkl-skripsi/Web%20Scrapping.ipynb#Y143sZmlsZQ%3D%3D?line=38'>39</a>\u001b[0m         out\u001b[39m.\u001b[39mappend([word, i , weight, counter[word]])\n\u001b[0;32m     <a href='vscode-notebook-cell:/d%3A/KULIAH/SKRIPSI/Scrapping/pkl-skripsi/Web%20Scrapping.ipynb#Y143sZmlsZQ%3D%3D?line=40'>41</a>\u001b[0m df_imp_wcount \u001b[39m=\u001b[39m pd\u001b[39m.\u001b[39mDataFrame(out, columns\u001b[39m=\u001b[39m[\u001b[39m'\u001b[39m\u001b[39mword\u001b[39m\u001b[39m'\u001b[39m, \u001b[39m'\u001b[39m\u001b[39mtopic_id\u001b[39m\u001b[39m'\u001b[39m, \u001b[39m'\u001b[39m\u001b[39mimportance\u001b[39m\u001b[39m'\u001b[39m, \u001b[39m'\u001b[39m\u001b[39mword_count\u001b[39m\u001b[39m'\u001b[39m]) \n",
      "\u001b[1;31mValueError\u001b[0m: not enough values to unpack (expected 2, got 1)"
     ]
    },
    {
     "data": {
      "image/png": "[encoded data removed]",
      "text/plain": [
       "<Figure size 720x576 with 1 Axes>"
      ]
     },
     "metadata": {
      "needs_background": "light"
     },
     "output_type": "display_data"
    }
   ],
   "source": [
    "DocTjPuas, CoherenceTjPuas,CoherenceTjPuasMax,ModelTjPuas, PlotTjPuas, ImpTjPuas = _LatentDirichletAllocation(\n",
    "    reviewdatatanjungpuas['Review Text'])\n"
   ]
  },
  {
   "cell_type": "code",
   "execution_count": 89,
   "metadata": {},
   "outputs": [
    {
     "data": {
      "text/plain": [
       "[(0,\n",
       "  '0.033*\"nyaman\" + 0.017*\"mantab\" + 0.017*\"luas\" + 0.014*\"oke\" + 0.013*\"kapal\" + 0.010*\"laut\" + 0.010*\"penumpang\" + 0.009*\"legundi\" + 0.009*\"sepi\" + 0.008*\"top\"'),\n",
       " (1,\n",
       "  '0.015*\"sibuk\" + 0.014*\"terbaik\" + 0.012*\"lumayan\" + 0.010*\"fasilitas\" + 0.010*\"kamal\" + 0.009*\"suka\" + 0.009*\"kerja\" + 0.009*\"mudik\" + 0.008*\"kapal\" + 0.007*\"pelindo\"'),\n",
       " (2,\n",
       "  '0.012*\"tempatnya\" + 0.011*\"padat\" + 0.009*\"salah\" + 0.009*\"pelayanan\" + 0.009*\"pulau\" + 0.008*\"rapi\" + 0.007*\"bersih\" + 0.007*\"uang\" + 0.006*\"modern\" + 0.006*\"baguss\"'),\n",
       " (3,\n",
       "  '0.082*\"bagus\" + 0.018*\"bersih\" + 0.015*\"pelayanannya\" + 0.013*\"suka\" + 0.011*\"nyaman\" + 0.011*\"indah\" + 0.009*\"fasilitas\" + 0.009*\"mantul\" + 0.007*\"hatihati\" + 0.007*\"ramah\"'),\n",
       " (4,\n",
       "  '0.025*\"bagus\" + 0.010*\"jalan\" + 0.008*\"kapal\" + 0.007*\"penyeberangan\" + 0.006*\"mantap\" + 0.006*\"tanjunng\" + 0.006*\"kesini\" + 0.006*\"padat\" + 0.006*\"internasional\" + 0.006*\"siip\"'),\n",
       " (5,\n",
       "  '0.020*\"rapi\" + 0.018*\"tunggu\" + 0.014*\"ruang\" + 0.011*\"memuaskan\" + 0.008*\"sejuta\" + 0.008*\"cerita\" + 0.008*\"tanjung\" + 0.007*\"pungli\" + 0.007*\"disurabaya\" + 0.006*\"bersih\"'),\n",
       " (6,\n",
       "  '0.065*\"bagus\" + 0.027*\"bersih\" + 0.012*\"pelabuhannya\" + 0.010*\"alhamdulillah\" + 0.008*\"tertata\" + 0.007*\"kapal\" + 0.007*\"rapi\" + 0.007*\"kirim\" + 0.007*\"lumayan\" + 0.007*\"menyenangkan\"'),\n",
       " (7,\n",
       "  '0.036*\"mantap\" + 0.011*\"tempatnya\" + 0.010*\"banget\" + 0.009*\"oke\" + 0.009*\"barang\" + 0.007*\"hati\" + 0.007*\"kendaraan\" + 0.007*\"luas\" + 0.006*\"cantik\" + 0.006*\"sibuk\"'),\n",
       " (8,\n",
       "  '0.048*\"bagus\" + 0.015*\"kapalnya\" + 0.013*\"lumayan\" + 0.012*\"lengkap\" + 0.011*\"nyaman\" + 0.008*\"fasilitas\" + 0.008*\"aman\" + 0.006*\"full\" + 0.006*\"menarik\" + 0.006*\"memadai\"'),\n",
       " (9,\n",
       "  '0.032*\"bersih\" + 0.019*\"menyenangkan\" + 0.013*\"bagus\" + 0.011*\"tertib\" + 0.011*\"nyaman\" + 0.010*\"aman\" + 0.009*\"penumpang\" + 0.008*\"tepi\" + 0.007*\"pemandangan\" + 0.006*\"layanan\"'),\n",
       " (10,\n",
       "  '0.022*\"nyaman\" + 0.017*\"bersih\" + 0.013*\"lumayan\" + 0.012*\"tanjung\" + 0.010*\"kota\" + 0.009*\"mantapp\" + 0.009*\"sepi\" + 0.009*\"tertib\" + 0.008*\"indah\" + 0.008*\"bagus\"'),\n",
       " (11,\n",
       "  '0.032*\"bagus\" + 0.016*\"aman\" + 0.014*\"timur\" + 0.012*\"bersih\" + 0.010*\"terbesar\" + 0.009*\"internasional\" + 0.008*\"jawa\" + 0.007*\"tanjung\" + 0.006*\"surya\" + 0.006*\"gapura\"'),\n",
       " (12,\n",
       "  '0.096*\"bagus\" + 0.033*\"ramai\" + 0.019*\"kapal\" + 0.010*\"bagusss\" + 0.009*\"tujuan\" + 0.008*\"aktivitas\" + 0.007*\"indah\" + 0.006*\"bersih\" + 0.006*\"pelabuhannya\" + 0.006*\"saudara\"'),\n",
       " (13,\n",
       "  '0.062*\"mantap\" + 0.009*\"mantab\" + 0.008*\"tertata\" + 0.007*\"laut\" + 0.007*\"mudah\" + 0.006*\"pokoknya\" + 0.006*\"rindu\" + 0.006*\"ribet\" + 0.006*\"pelebuhan\" + 0.006*\"berantakan\"'),\n",
       " (14,\n",
       "  '0.026*\"tanjung\" + 0.020*\"keren\" + 0.011*\"bagus\" + 0.010*\"tunggu\" + 0.010*\"bersih\" + 0.009*\"ruang\" + 0.008*\"udah\" + 0.007*\"teratur\" + 0.007*\"terminal\" + 0.007*\"pulau\"'),\n",
       " (15,\n",
       "  '0.017*\"bersih\" + 0.016*\"ramai\" + 0.015*\"kereen\" + 0.013*\"jawa\" + 0.013*\"kapal\" + 0.012*\"timur\" + 0.009*\"aman\" + 0.006*\"nyaman\" + 0.006*\"megah\" + 0.006*\"kotor\"'),\n",
       " (16,\n",
       "  '0.026*\"mantap\" + 0.012*\"bersih\" + 0.011*\"terbaik\" + 0.008*\"transportasi\" + 0.008*\"pelayanan\" + 0.008*\"penyebrangan\" + 0.007*\"semoga\" + 0.007*\"laut\" + 0.007*\"view\" + 0.007*\"pelabuhannya\"'),\n",
       " (17,\n",
       "  '0.034*\"keren\" + 0.021*\"terbesar\" + 0.014*\"luas\" + 0.011*\"siip\" + 0.011*\"membantu\" + 0.011*\"kesana\" + 0.010*\"nyaman\" + 0.006*\"tempatnya\" + 0.006*\"mantaps\" + 0.006*\"disurabaya\"'),\n",
       " (18,\n",
       "  '0.011*\"bersih\" + 0.011*\"rapi\" + 0.010*\"puas\" + 0.010*\"indah\" + 0.009*\"aman\" + 0.008*\"timur\" + 0.008*\"tanjung\" + 0.007*\"rame\" + 0.007*\"kapal\" + 0.007*\"asik\"'),\n",
       " (19,\n",
       "  '0.012*\"bandara\" + 0.010*\"tanjung\" + 0.009*\"joss\" + 0.008*\"salah\" + 0.007*\"malam\" + 0.007*\"tempatnya\" + 0.007*\"nyaman\" + 0.006*\"kapal\" + 0.006*\"mobil\" + 0.006*\"lokasinya\"'),\n",
       " (20,\n",
       "  '0.040*\"bagus\" + 0.021*\"panas\" + 0.015*\"tempatnya\" + 0.014*\"bersih\" + 0.012*\"pelayanan\" + 0.009*\"aman\" + 0.009*\"rapi\" + 0.008*\"nyaman\" + 0.008*\"pemandangan\" + 0.007*\"deh\"')]"
      ]
     },
     "execution_count": 89,
     "metadata": {},
     "output_type": "execute_result"
    }
   ],
   "source": [
    "ModelTjPuas"
   ]
  },
  {
   "cell_type": "code",
   "execution_count": 29,
   "metadata": {},
   "outputs": [
    {
     "data": {
      "text/plain": [
       "[(0,\n",
       "  '0.011*\"pemandangan\" + 0.009*\"semoga\" + 0.008*\"modern\" + 0.007*\"nyaman\" + 0.006*\"lembar\" + 0.006*\"asri\" + 0.006*\"mantaps\" + 0.006*\"khas\" + 0.006*\"disurabaya\" + 0.006*\"kerja\"'),\n",
       " (1,\n",
       "  '0.079*\"bagus\" + 0.012*\"terbaik\" + 0.007*\"fasilitas\" + 0.006*\"bersih\" + 0.006*\"kebersihan\" + 0.005*\"terpadat\" + 0.005*\"karyawannya\" + 0.005*\"pelindo\" + 0.005*\"enak\" + 0.005*\"bertahan\"'),\n",
       " (2,\n",
       "  '0.015*\"kapal\" + 0.010*\"nyaman\" + 0.010*\"penyebrangan\" + 0.009*\"pelabuhannya\" + 0.009*\"damai\" + 0.009*\"mantap\" + 0.008*\"bersih\" + 0.008*\"pelni\" + 0.008*\"fasilitasnya\" + 0.006*\"jadwal\"'),\n",
       " (3,\n",
       "  '0.017*\"padat\" + 0.011*\"kapal\" + 0.008*\"kesini\" + 0.008*\"ramai\" + 0.008*\"indah\" + 0.008*\"antrian\" + 0.007*\"maju\" + 0.007*\"penumpang\" + 0.007*\"luas\" + 0.006*\"tanjunng\"'),\n",
       " (4,\n",
       "  '0.038*\"bagus\" + 0.019*\"timur\" + 0.015*\"bersih\" + 0.010*\"jawa\" + 0.009*\"lumayan\" + 0.008*\"berkesan\" + 0.007*\"terbesar\" + 0.006*\"langsung\" + 0.006*\"orang\" + 0.006*\"laut\"'),\n",
       " (5,\n",
       "  '0.061*\"bagus\" + 0.032*\"keren\" + 0.015*\"pelayanan\" + 0.010*\"siip\" + 0.010*\"menyenangkan\" + 0.009*\"lumayan\" + 0.009*\"tunggu\" + 0.008*\"laut\" + 0.007*\"luas\" + 0.006*\"kapal\"'),\n",
       " (6,\n",
       "  '0.021*\"aman\" + 0.017*\"mantab\" + 0.017*\"mantap\" + 0.016*\"nyaman\" + 0.010*\"terbesar\" + 0.009*\"berangkat\" + 0.007*\"tj\" + 0.007*\"lagu\" + 0.006*\"suramadu\" + 0.006*\"menyebrang\"'),\n",
       " (7,\n",
       "  '0.034*\"bersih\" + 0.014*\"luas\" + 0.011*\"bagus\" + 0.011*\"panas\" + 0.011*\"pelabuhannya\" + 0.010*\"mantab\" + 0.010*\"nyaman\" + 0.008*\"teratur\" + 0.008*\"pokoknya\" + 0.008*\"kapal\"'),\n",
       " (8,\n",
       "  '0.058*\"bersih\" + 0.031*\"bagus\" + 0.019*\"tanjung\" + 0.018*\"nyaman\" + 0.018*\"aman\" + 0.012*\"luas\" + 0.010*\"indah\" + 0.008*\"kapal\" + 0.007*\"enak\" + 0.007*\"panas\"'),\n",
       " (9,\n",
       "  '0.023*\"bagus\" + 0.021*\"keren\" + 0.013*\"oke\" + 0.011*\"lumayan\" + 0.010*\"puas\" + 0.008*\"nyaman\" + 0.008*\"vaksin\" + 0.008*\"bandara\" + 0.007*\"kesini\" + 0.006*\"mantul\"'),\n",
       " (10,\n",
       "  '0.025*\"mantap\" + 0.020*\"salah\" + 0.020*\"indah\" + 0.018*\"terbesar\" + 0.014*\"oke\" + 0.014*\"bagus\" + 0.012*\"tempatnya\" + 0.011*\"mudik\" + 0.010*\"rapi\" + 0.008*\"timur\"'),\n",
       " (11,\n",
       "  '0.014*\"fasilitas\" + 0.011*\"menyenangkan\" + 0.009*\"barang\" + 0.008*\"nyaman\" + 0.008*\"lumayan\" + 0.007*\"kirim\" + 0.006*\"cantik\" + 0.006*\"nda\" + 0.006*\"aktivitas\" + 0.006*\"mantab\"'),\n",
       " (12,\n",
       "  '0.016*\"fasilitas\" + 0.011*\"nyaman\" + 0.010*\"tempatnya\" + 0.010*\"tanjung\" + 0.009*\"ramah\" + 0.008*\"bersih\" + 0.007*\"lengkap\" + 0.007*\"alhamdulillah\" + 0.007*\"lancar\" + 0.007*\"layanan\"'),\n",
       " (13,\n",
       "  '0.011*\"banget\" + 0.010*\"indah\" + 0.010*\"pelayanannya\" + 0.008*\"tertib\" + 0.007*\"bagus\" + 0.007*\"kren\" + 0.007*\"baguus\" + 0.007*\"abis\" + 0.007*\"mantapp\" + 0.007*\"suka\"'),\n",
       " (14,\n",
       "  '0.053*\"mantap\" + 0.015*\"tempatnya\" + 0.013*\"panas\" + 0.009*\"bersih\" + 0.009*\"kapal\" + 0.008*\"rapi\" + 0.007*\"utama\" + 0.006*\"menyenang\" + 0.006*\"internasional\" + 0.006*\"tamannya\"'),\n",
       " (15,\n",
       "  '0.026*\"tanjung\" + 0.013*\"laut\" + 0.013*\"tepi\" + 0.013*\"bagus\" + 0.011*\"kereen\" + 0.010*\"pelayanan\" + 0.010*\"kamal\" + 0.010*\"nyaman\" + 0.009*\"sepi\" + 0.008*\"kapal\"'),\n",
       " (16,\n",
       "  '0.019*\"mantap\" + 0.011*\"bersih\" + 0.009*\"suka\" + 0.009*\"ramai\" + 0.008*\"tanjung\" + 0.008*\"pulau\" + 0.008*\"rapi\" + 0.007*\"kapal\" + 0.007*\"teratur\" + 0.006*\"tempatnya\"'),\n",
       " (17,\n",
       "  '0.030*\"bagus\" + 0.010*\"malam\" + 0.010*\"kapal\" + 0.009*\"asik\" + 0.008*\"pulang\" + 0.008*\"seru\" + 0.007*\"tertib\" + 0.007*\"balikpapan\" + 0.007*\"terawat\" + 0.006*\"tempatnya\"'),\n",
       " (18,\n",
       "  '0.019*\"bagus\" + 0.015*\"ramai\" + 0.012*\"modern\" + 0.008*\"tanjung\" + 0.008*\"bersih\" + 0.007*\"maju\" + 0.007*\"oke\" + 0.007*\"ruang\" + 0.007*\"memuaskan\" + 0.006*\"tunggu\"'),\n",
       " (19,\n",
       "  '0.034*\"bagus\" + 0.010*\"luas\" + 0.009*\"kapal\" + 0.008*\"penyebrangan\" + 0.008*\"pulau\" + 0.007*\"berlabuh\" + 0.007*\"laut\" + 0.006*\"karna\" + 0.006*\"ramai\" + 0.006*\"rapi\"'),\n",
       " (20,\n",
       "  '0.020*\"keren\" + 0.014*\"tanjung\" + 0.014*\"rapi\" + 0.014*\"bagus\" + 0.012*\"penumpang\" + 0.012*\"nyaman\" + 0.012*\"terminal\" + 0.010*\"tempatnya\" + 0.006*\"kapal\" + 0.006*\"gapura\"'),\n",
       " (21,\n",
       "  '0.043*\"bagus\" + 0.022*\"aman\" + 0.015*\"terbesar\" + 0.013*\"bersih\" + 0.011*\"rapi\" + 0.010*\"sibuk\" + 0.009*\"sepi\" + 0.008*\"menunggu\" + 0.008*\"modern\" + 0.007*\"pelayanan\"')]"
      ]
     },
     "execution_count": 29,
     "metadata": {},
     "output_type": "execute_result"
    }
   ],
   "source": [
    "ModelTjPuas"
   ]
  },
  {
   "cell_type": "code",
   "execution_count": 27,
   "metadata": {},
   "outputs": [
    {
     "name": "stderr",
     "output_type": "stream",
     "text": [
      "100%|██████████| 49/49 [02:24<00:00,  2.95s/it]\n"
     ]
    },
    {
     "data": {
      "image/png": "[encoded data removed]",
      "text/plain": [
       "<Figure size 720x576 with 1 Axes>"
      ]
     },
     "metadata": {
      "needs_background": "light"
     },
     "output_type": "display_data"
    }
   ],
   "source": [
    "DocTjTidakPuas, CoherenceTjTidakPuas,CoherenceTjTidakPuasMax,ModelTjTidakPuas, PlotTjTidakPuas = _LatentDirichletAllocation(\n",
    "    reviewdatatanjungtidakpuas['Review Text'])"
   ]
  },
  {
   "cell_type": "code",
   "execution_count": 30,
   "metadata": {},
   "outputs": [
    {
     "data": {
      "text/plain": [
       "[(0,\n",
       "  '0.016*\"tanjung\" + 0.011*\"bagus\" + 0.010*\"hati\" + 0.009*\"bersandar\" + 0.008*\"keamanan\" + 0.007*\"kesini\" + 0.007*\"luas\" + 0.007*\"kapal\" + 0.007*\"calo\" + 0.006*\"akurat\"'),\n",
       " (1,\n",
       "  '0.012*\"nyaman\" + 0.009*\"kebersihan\" + 0.007*\"penyeberangan\" + 0.006*\"ehh\" + 0.006*\"akurat\" + 0.006*\"padat\" + 0.006*\"megah\" + 0.006*\"bagus\" + 0.006*\"tempatnya\" + 0.005*\"membingungkan\"'),\n",
       " (2,\n",
       "  '0.017*\"bagus\" + 0.011*\"kapal\" + 0.010*\"oke\" + 0.010*\"rame\" + 0.008*\"jalan\" + 0.008*\"wilayahnya\" + 0.008*\"jadwal\" + 0.007*\"terbesar\" + 0.006*\"masuk\" + 0.006*\"pelayanan\"'),\n",
       " (3,\n",
       "  '0.013*\"salah\" + 0.010*\"bersih\" + 0.007*\"calo\" + 0.007*\"kali\" + 0.007*\"lokasi\" + 0.007*\"arah\" + 0.006*\"penyebrangan\" + 0.006*\"aman\" + 0.006*\"gelap\" + 0.006*\"mantul\"'),\n",
       " (4,\n",
       "  '0.028*\"lumayan\" + 0.019*\"calo\" + 0.015*\"pungli\" + 0.009*\"perbaiki\" + 0.006*\"pelabuhannya\" + 0.006*\"kota\" + 0.006*\"pelayanan\" + 0.006*\"mantap\" + 0.006*\"semrawut\" + 0.006*\"macet\"'),\n",
       " (5,\n",
       "  '0.017*\"kotor\" + 0.016*\"panas\" + 0.015*\"ramai\" + 0.008*\"titik\" + 0.007*\"kapal\" + 0.007*\"mohon\" + 0.006*\"terawat\" + 0.006*\"fasilitasnya\" + 0.006*\"penumpang\" + 0.005*\"sesuai\"')]"
      ]
     },
     "execution_count": 30,
     "metadata": {},
     "output_type": "execute_result"
    }
   ],
   "source": [
    "ModelTjTidakPuas"
   ]
  },
  {
   "cell_type": "markdown",
   "metadata": {},
   "source": [
    "### Jamrud"
   ]
  },
  {
   "cell_type": "code",
   "execution_count": 31,
   "metadata": {},
   "outputs": [
    {
     "name": "stderr",
     "output_type": "stream",
     "text": [
      "100%|██████████| 49/49 [02:25<00:00,  2.97s/it]\n"
     ]
    },
    {
     "data": {
      "image/png": "[encoded data removed]",
      "text/plain": [
       "<Figure size 720x576 with 1 Axes>"
      ]
     },
     "metadata": {
      "needs_background": "light"
     },
     "output_type": "display_data"
    }
   ],
   "source": [
    "DocJrPuas, CoherenceJrPuas,CoherenceJrPuasMax,ModelJrPuas, PlotJrPuas = _LatentDirichletAllocation(\n",
    "    reviewdatajamrudpuas['Review Text'])"
   ]
  },
  {
   "cell_type": "code",
   "execution_count": 32,
   "metadata": {},
   "outputs": [
    {
     "data": {
      "text/plain": [
       "[(0,\n",
       "  '0.020*\"rapi\" + 0.019*\"aman\" + 0.013*\"bersih\" + 0.008*\"siiip\" + 0.008*\"mah\" + 0.007*\"tetep\" + 0.007*\"bagus\" + 0.007*\"km\" + 0.007*\"sngat\" + 0.006*\"tertata\"'),\n",
       " (1,\n",
       "  '0.014*\"bersih\" + 0.013*\"lumayan\" + 0.010*\"luas\" + 0.010*\"kapal\" + 0.010*\"alfa\" + 0.009*\"semoga\" + 0.007*\"mantul\" + 0.007*\"petunjuk\" + 0.007*\"yus\" + 0.007*\"amantertib\"'),\n",
       " (2,\n",
       "  '0.020*\"mantap\" + 0.019*\"bagus\" + 0.016*\"barang\" + 0.012*\"ramai\" + 0.011*\"pulau\" + 0.009*\"bongkar\" + 0.008*\"kerja\" + 0.008*\"kapal\" + 0.007*\"rejeki\" + 0.007*\"kendaraan\"'),\n",
       " (3,\n",
       "  '0.016*\"bersih\" + 0.015*\"jamrud\" + 0.010*\"aman\" + 0.010*\"kapal\" + 0.009*\"sibuk\" + 0.008*\"nyaman\" + 0.008*\"mencari\" + 0.008*\"dermaga\" + 0.007*\"mantap\" + 0.007*\"top\"'),\n",
       " (4,\n",
       "  '0.039*\"bagus\" + 0.012*\"menunggu\" + 0.012*\"kerja\" + 0.011*\"kapal\" + 0.009*\"sandar\" + 0.007*\"lihat\" + 0.007*\"terminal\" + 0.007*\"masuk\" + 0.007*\"sby\" + 0.006*\"bersih\"'),\n",
       " (5,\n",
       "  '0.025*\"internasional\" + 0.020*\"nyaman\" + 0.011*\"oke\" + 0.010*\"bersih\" + 0.009*\"roro\" + 0.009*\"pengiriman\" + 0.007*\"rapih\" + 0.007*\"ramah\" + 0.007*\"mantap\" + 0.007*\"wow\"'),\n",
       " (6,\n",
       "  '0.020*\"bagus\" + 0.018*\"keren\" + 0.014*\"terminal\" + 0.013*\"muat\" + 0.011*\"bongkar\" + 0.011*\"penumpang\" + 0.009*\"tempatnya\" + 0.009*\"rapi\" + 0.008*\"kerja\" + 0.008*\"bersih\"'),\n",
       " (7,\n",
       "  '0.015*\"jamrud\" + 0.013*\"joss\" + 0.012*\"selatan\" + 0.011*\"tempatnya\" + 0.011*\"kapal\" + 0.009*\"kirim\" + 0.009*\"bersih\" + 0.008*\"terminal\" + 0.007*\"mantab\" + 0.007*\"modern\"')]"
      ]
     },
     "execution_count": 32,
     "metadata": {},
     "output_type": "execute_result"
    }
   ],
   "source": [
    "ModelJrPuas"
   ]
  },
  {
   "cell_type": "code",
   "execution_count": 33,
   "metadata": {},
   "outputs": [
    {
     "name": "stderr",
     "output_type": "stream",
     "text": [
      "100%|██████████| 49/49 [02:00<00:00,  2.45s/it]\n"
     ]
    },
    {
     "data": {
      "image/png": "[encoded data removed]",
      "text/plain": [
       "<Figure size 720x576 with 1 Axes>"
      ]
     },
     "metadata": {
      "needs_background": "light"
     },
     "output_type": "display_data"
    }
   ],
   "source": [
    "DocJrTidakPuas, CoherenceJrTidakPuas,CoherenceJrTidakPuasMax,ModelJrTidakPuas, PlotJrTidakPuas = _LatentDirichletAllocation(\n",
    "    reviewdatajamrudtidakpuas['Review Text'])"
   ]
  },
  {
   "cell_type": "code",
   "execution_count": 34,
   "metadata": {},
   "outputs": [
    {
     "data": {
      "text/plain": [
       "[(0,\n",
       "  '0.010*\"panas\" + 0.009*\"lumayan\" + 0.008*\"kapal\" + 0.007*\"internasional\" + 0.006*\"bersih\" + 0.006*\"penumpang\" + 0.006*\"muat\" + 0.006*\"kotor\" + 0.005*\"bagus\" + 0.005*\"barang\"')]"
      ]
     },
     "execution_count": 34,
     "metadata": {},
     "output_type": "execute_result"
    }
   ],
   "source": [
    "ModelJrTidakPuas"
   ]
  },
  {
   "cell_type": "markdown",
   "metadata": {},
   "source": [
    "### Roro"
   ]
  },
  {
   "cell_type": "code",
   "execution_count": 39,
   "metadata": {},
   "outputs": [
    {
     "name": "stderr",
     "output_type": "stream",
     "text": [
      "100%|██████████| 49/49 [01:38<00:00,  2.01s/it]\n"
     ]
    },
    {
     "data": {
      "image/png": "[encoded data removed]",
      "text/plain": [
       "<Figure size 720x576 with 1 Axes>"
      ]
     },
     "metadata": {
      "needs_background": "light"
     },
     "output_type": "display_data"
    }
   ],
   "source": [
    "DocRoroPuas, CoherenceRoroPuas,CoherenceRoroPuasMax,ModelRoroPuas, PlotRoroPuas = _LatentDirichletAllocation(\n",
    "    reviewdataroropuas['Review Text'])"
   ]
  },
  {
   "cell_type": "code",
   "execution_count": 40,
   "metadata": {},
   "outputs": [
    {
     "data": {
      "text/plain": [
       "[(0,\n",
       "  '0.021*\"lumayan\" + 0.018*\"menyenangkan\" + 0.016*\"terminalnya\" + 0.016*\"ramai\" + 0.016*\"pas\" + 0.015*\"adem\" + 0.015*\"tunggu\" + 0.015*\"ruang\" + 0.015*\"kapal\" + 0.015*\"layak\"')]"
      ]
     },
     "execution_count": 40,
     "metadata": {},
     "output_type": "execute_result"
    }
   ],
   "source": [
    "ModelRoroPuas"
   ]
  }
 ],
 "metadata": {
  "kernelspec": {
   "display_name": "Python 3.8.10 64-bit",
   "language": "python",
   "name": "python3"
  },
  "language_info": {
   "codemirror_mode": {
    "name": "ipython",
    "version": 3
   },
   "file_extension": ".py",
   "mimetype": "text/x-python",
   "name": "python",
   "nbconvert_exporter": "python",
   "pygments_lexer": "ipython3",
   "version": "3.8.10"
  },
  "orig_nbformat": 4,
  "vscode": {
   "interpreter": {
    "hash": "8813fd1af8d6404d78669fd5530a62870c7db12c082af923e946d77e77858332"
   }
  }
 },
 "nbformat": 4,
 "nbformat_minor": 2
}
